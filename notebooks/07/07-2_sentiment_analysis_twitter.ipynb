{
  "cells": [
    {
      "cell_type": "markdown",
      "metadata": {
        "id": "saTzkoSOFoa6"
      },
      "source": [
        "# Text classification and sentiment analysis: Twitter"
      ]
    },
    {
      "cell_type": "markdown",
      "metadata": {
        "id": "UNnFuKW0Foa9"
      },
      "source": [
        "<a href=\"https://colab.research.google.com/github/chu-ise/413A-2022/blob/main/notebooks/07/07-2_sentiment_analysis_twitter.ipynb\" target=\"_parent\"><img src=\"https://colab.research.google.com/assets/colab-badge.svg\" alt=\"Open In Colab\"/></a>"
      ]
    },
    {
      "cell_type": "markdown",
      "metadata": {
        "id": "PVEoA6EUFoa9"
      },
      "source": [
        "Once text data has been converted into numerical features, text classification works just like any other classification task.\n",
        "\n",
        "In this notebook, we will apply these preprocessing technique to news articles, product reviews, and Twitter data and teach various classifiers to predict discrete news categories, review scores, and sentiment polarity."
      ]
    },
    {
      "cell_type": "markdown",
      "metadata": {
        "id": "G7_hDeR6Foa-"
      },
      "source": [
        "## Imports"
      ]
    },
    {
      "cell_type": "code",
      "execution_count": null,
      "metadata": {
        "ExecuteTime": {
          "end_time": "2020-06-21T00:42:48.348039Z",
          "start_time": "2020-06-21T00:42:48.344849Z"
        },
        "id": "0BCrt_Z7Foa-"
      },
      "outputs": [],
      "source": [
        "import warnings\n",
        "warnings.filterwarnings('ignore')"
      ]
    },
    {
      "cell_type": "code",
      "execution_count": null,
      "metadata": {
        "ExecuteTime": {
          "end_time": "2020-06-21T00:42:49.188022Z",
          "start_time": "2020-06-21T00:42:48.362034Z"
        },
        "id": "bGp785DDFobA"
      },
      "outputs": [],
      "source": [
        "%matplotlib inline\n",
        "\n",
        "from pathlib import Path\n",
        "import numpy as np\n",
        "import pandas as pd\n",
        "\n",
        "# Visualization\n",
        "import matplotlib.pyplot as plt\n",
        "import seaborn as sns\n",
        "\n",
        "# spacy, textblob and nltk for language processing\n",
        "from textblob import TextBlob\n",
        "\n",
        "# sklearn for feature extraction & modeling\n",
        "from sklearn.feature_extraction.text import CountVectorizer, TfidfVectorizer\n",
        "from sklearn.naive_bayes import MultinomialNB\n",
        "from sklearn.metrics import roc_auc_score, roc_curve, accuracy_score\n"
      ]
    },
    {
      "cell_type": "code",
      "execution_count": null,
      "metadata": {
        "ExecuteTime": {
          "end_time": "2020-06-21T00:42:49.206503Z",
          "start_time": "2020-06-21T00:42:49.189954Z"
        },
        "id": "eeA4OFboFobA"
      },
      "outputs": [],
      "source": [
        "sns.set_style('white')\n"
      ]
    },
    {
      "cell_type": "markdown",
      "metadata": {
        "id": "05IfxvrkFobB"
      },
      "source": [
        "## Twitter Sentiment"
      ]
    },
    {
      "cell_type": "markdown",
      "metadata": {
        "id": "DMAs0sMnFobC"
      },
      "source": [
        "### Download the data"
      ]
    },
    {
      "cell_type": "markdown",
      "metadata": {
        "id": "KWgNcBCcFobC"
      },
      "source": [
        "We use a dataset that contains 1.6 million training and 350 test tweets from 2009 with algorithmically assigned binary positive and negative sentiment scores that are fairly evenly split."
      ]
    },
    {
      "cell_type": "code",
      "execution_count": null,
      "metadata": {
        "colab": {
          "base_uri": "https://localhost:8080/",
          "height": 125
        },
        "id": "lpxC8-uTGFfO",
        "outputId": "7dcd91a2-77c7-4741-fc0a-89b1fcd8d537"
      },
      "outputs": [],
      "source": [
        "import gdown\n",
        "id = \"15kGH8PG8VwLJH0mTPz5ntpeRikPIM5i-\"\n",
        "\n",
        "data_file = \"twitter_sentiment.zip\"\n",
        "gdown.cached_download(id=id, path=data_file, postprocess=gdown.extractall)"
      ]
    },
    {
      "cell_type": "markdown",
      "metadata": {
        "id": "PTe3SVESFobD"
      },
      "source": [
        "- 0 - the polarity of the tweet (0 = negative, 2 = neutral, 4 = positive); training data has no neutral tweets\n",
        "- 1 - the id of the tweet (2087)\n",
        "- 2 - the date of the tweet (Sat May 16 23:58:44 UTC 2009)\n",
        "- 3 - the query (lyx). If there is no query, then this value is NO_QUERY. (only test data uses query)\n",
        "- 4 - the user that tweeted (robotickilldozr)\n",
        "- 5 - the text of the tweet (Lyx is cool)"
      ]
    },
    {
      "cell_type": "markdown",
      "metadata": {
        "id": "AgiNLEFDFobD"
      },
      "source": [
        "### Read and preprocess train/test data"
      ]
    },
    {
      "cell_type": "code",
      "execution_count": null,
      "metadata": {
        "ExecuteTime": {
          "end_time": "2020-06-21T00:42:49.216045Z",
          "start_time": "2020-06-21T00:42:49.208663Z"
        },
        "id": "oNp7Iv7cFobD"
      },
      "outputs": [],
      "source": [
        "data_path = Path('twitter_sentiment')"
      ]
    },
    {
      "cell_type": "code",
      "execution_count": null,
      "metadata": {
        "ExecuteTime": {
          "end_time": "2020-06-21T00:42:49.224549Z",
          "start_time": "2020-06-21T00:42:49.217690Z"
        },
        "id": "8x_doK42FobE"
      },
      "outputs": [],
      "source": [
        "names = ['polarity', 'id', 'date', 'query', 'user', 'text']"
      ]
    },
    {
      "cell_type": "markdown",
      "metadata": {
        "id": "A9JYB-OeFobE"
      },
      "source": [
        "Take a few preprocessing steps:\n",
        "- remove tweets above the legal (at the time) length of 140 characters,\n",
        "- binarize polarity, and \n",
        "- move the data to the faster parquet format."
      ]
    },
    {
      "cell_type": "code",
      "execution_count": null,
      "metadata": {
        "ExecuteTime": {
          "end_time": "2020-06-21T00:42:50.926809Z",
          "start_time": "2020-06-21T00:42:49.233284Z"
        },
        "colab": {
          "base_uri": "https://localhost:8080/"
        },
        "id": "WoNfoPTyFobF",
        "outputId": "9d31b720-f67d-4fe1-aa41-9f846c9f2744"
      },
      "outputs": [],
      "source": [
        "parquet_file = data_path / 'train.parquet'\n",
        "train = pd.read_parquet(parquet_file)\n",
        "train.info(null_counts=True)"
      ]
    },
    {
      "cell_type": "code",
      "execution_count": null,
      "metadata": {
        "ExecuteTime": {
          "end_time": "2020-06-21T00:42:51.013369Z",
          "start_time": "2020-06-21T00:42:50.932868Z"
        },
        "colab": {
          "base_uri": "https://localhost:8080/"
        },
        "id": "SyO4baeAFobG",
        "outputId": "7f4f9029-81d2-4e75-bc75-1344cf7edf51"
      },
      "outputs": [],
      "source": [
        "parquet_file = data_path / 'test.parquet'\n",
        "test = pd.read_parquet(parquet_file)\n",
        "test.info(null_counts=True)"
      ]
    },
    {
      "cell_type": "markdown",
      "metadata": {
        "id": "Y4oTbvYyFobG"
      },
      "source": [
        "### Explore data"
      ]
    },
    {
      "cell_type": "code",
      "execution_count": null,
      "metadata": {
        "ExecuteTime": {
          "end_time": "2020-06-21T00:42:51.031897Z",
          "start_time": "2020-06-21T00:42:51.015643Z"
        },
        "colab": {
          "base_uri": "https://localhost:8080/",
          "height": 206
        },
        "id": "TZMUfG26FobG",
        "outputId": "db670719-950b-4c02-8c00-e2e567837ce8"
      },
      "outputs": [],
      "source": [
        "train.head()"
      ]
    },
    {
      "cell_type": "code",
      "execution_count": null,
      "metadata": {
        "ExecuteTime": {
          "end_time": "2020-06-21T00:42:51.097846Z",
          "start_time": "2020-06-21T00:42:51.033755Z"
        },
        "colab": {
          "base_uri": "https://localhost:8080/"
        },
        "id": "H2A8rSYMFobG",
        "outputId": "4c858fc2-9cd5-4ed8-91a8-6f5b2bb95ba7"
      },
      "outputs": [],
      "source": [
        "train.polarity = (train.polarity>0).astype(int)\n",
        "train.polarity.value_counts()"
      ]
    },
    {
      "cell_type": "code",
      "execution_count": null,
      "metadata": {
        "ExecuteTime": {
          "end_time": "2020-06-21T00:42:51.121466Z",
          "start_time": "2020-06-21T00:42:51.103598Z"
        },
        "colab": {
          "base_uri": "https://localhost:8080/"
        },
        "id": "e-NuOrbCFobH",
        "outputId": "213bdc27-8630-4466-a457-fb953306dd0b"
      },
      "outputs": [],
      "source": [
        "test.polarity = (test.polarity>0).astype(int)\n",
        "test.polarity.value_counts()"
      ]
    },
    {
      "cell_type": "code",
      "execution_count": null,
      "metadata": {
        "ExecuteTime": {
          "end_time": "2020-06-21T00:42:52.174735Z",
          "start_time": "2020-06-21T00:42:51.123083Z"
        },
        "colab": {
          "base_uri": "https://localhost:8080/",
          "height": 279
        },
        "id": "4ozxapw8FobH",
        "outputId": "242d6c07-4f69-4d0c-f03a-0db36f0f205d"
      },
      "outputs": [],
      "source": [
        "sns.distplot(train.text.str.len(), kde=False)\n",
        "sns.despine();"
      ]
    },
    {
      "cell_type": "code",
      "execution_count": null,
      "metadata": {
        "ExecuteTime": {
          "end_time": "2020-06-21T00:42:52.367559Z",
          "start_time": "2020-06-21T00:42:52.175614Z"
        },
        "colab": {
          "base_uri": "https://localhost:8080/"
        },
        "id": "9fuKziT0FobH",
        "outputId": "367c7f49-74a0-4751-9010-64cddd759c06"
      },
      "outputs": [],
      "source": [
        "train.date.describe()"
      ]
    },
    {
      "cell_type": "code",
      "execution_count": null,
      "metadata": {
        "ExecuteTime": {
          "end_time": "2020-06-21T00:42:52.817105Z",
          "start_time": "2020-06-21T00:42:52.370055Z"
        },
        "colab": {
          "base_uri": "https://localhost:8080/"
        },
        "id": "1IZfKZSmFobH",
        "outputId": "e41010be-4543-4716-a59a-c37daf007214"
      },
      "outputs": [],
      "source": [
        "train.user.nunique()"
      ]
    },
    {
      "cell_type": "code",
      "execution_count": null,
      "metadata": {
        "ExecuteTime": {
          "end_time": "2020-06-21T00:42:53.591563Z",
          "start_time": "2020-06-21T00:42:52.832364Z"
        },
        "colab": {
          "base_uri": "https://localhost:8080/"
        },
        "id": "QNl7GhQRFobH",
        "outputId": "3772692a-1c42-421b-ada0-79c10de3f6eb"
      },
      "outputs": [],
      "source": [
        "train.user.value_counts().head(10)"
      ]
    },
    {
      "cell_type": "markdown",
      "metadata": {
        "id": "4tgvxkDuFobH"
      },
      "source": [
        "### Create text vectorizer"
      ]
    },
    {
      "cell_type": "markdown",
      "metadata": {
        "id": "3Ii_e_2pFobI"
      },
      "source": [
        "We create a document-term matrix with 934 tokens as follows:"
      ]
    },
    {
      "cell_type": "code",
      "execution_count": null,
      "metadata": {
        "ExecuteTime": {
          "end_time": "2020-06-21T00:43:11.651633Z",
          "start_time": "2020-06-21T00:42:53.596830Z"
        },
        "id": "d1Dnx5maFobI"
      },
      "outputs": [],
      "source": [
        "vectorizer = CountVectorizer(min_df=.001, max_df=.8, stop_words='english')\n",
        "train_dtm = vectorizer.fit_transform(train.text)"
      ]
    },
    {
      "cell_type": "code",
      "execution_count": null,
      "metadata": {
        "ExecuteTime": {
          "end_time": "2020-06-21T00:43:11.655414Z",
          "start_time": "2020-06-21T00:43:11.652745Z"
        },
        "colab": {
          "base_uri": "https://localhost:8080/"
        },
        "id": "2IoNXG-2FobI",
        "outputId": "741b4c00-84d3-49d3-cc0d-e713dbe7f15a"
      },
      "outputs": [],
      "source": [
        "train_dtm"
      ]
    },
    {
      "cell_type": "code",
      "execution_count": null,
      "metadata": {
        "ExecuteTime": {
          "end_time": "2020-06-21T00:43:11.669425Z",
          "start_time": "2020-06-21T00:43:11.656403Z"
        },
        "id": "GIFonxt9FobI"
      },
      "outputs": [],
      "source": [
        "test_dtm = vectorizer.transform(test.text)"
      ]
    },
    {
      "cell_type": "markdown",
      "metadata": {
        "id": "DIuxxl6MFobI"
      },
      "source": [
        "### Train Naive Bayes Classifier"
      ]
    },
    {
      "cell_type": "code",
      "execution_count": null,
      "metadata": {
        "ExecuteTime": {
          "end_time": "2020-06-21T00:43:11.897040Z",
          "start_time": "2020-06-21T00:43:11.671003Z"
        },
        "colab": {
          "base_uri": "https://localhost:8080/"
        },
        "id": "9dhP75OUFobI",
        "outputId": "769da891-dd8a-4620-d447-ea956e70b8c6"
      },
      "outputs": [],
      "source": [
        "nb = MultinomialNB()\n",
        "nb.fit(train_dtm, train.polarity)"
      ]
    },
    {
      "cell_type": "markdown",
      "metadata": {
        "id": "O8RkGMOpFobI"
      },
      "source": [
        "### Predict Test Polarity"
      ]
    },
    {
      "cell_type": "code",
      "execution_count": null,
      "metadata": {
        "ExecuteTime": {
          "end_time": "2020-06-21T00:43:11.910282Z",
          "start_time": "2020-06-21T00:43:11.898724Z"
        },
        "id": "Roz0MyPVFobJ"
      },
      "outputs": [],
      "source": [
        "predicted_polarity = nb.predict(test_dtm)"
      ]
    },
    {
      "cell_type": "markdown",
      "metadata": {
        "id": "Fvva6iz2FobJ"
      },
      "source": [
        "### Evaluate Results"
      ]
    },
    {
      "cell_type": "code",
      "execution_count": null,
      "metadata": {
        "ExecuteTime": {
          "end_time": "2020-06-21T00:43:11.928292Z",
          "start_time": "2020-06-21T00:43:11.912307Z"
        },
        "colab": {
          "base_uri": "https://localhost:8080/"
        },
        "id": "LHoPS89RFobJ",
        "outputId": "2d085a2c-f6c3-46af-c781-ab8aeb4197c1"
      },
      "outputs": [],
      "source": [
        "accuracy_score(test.polarity, predicted_polarity)"
      ]
    },
    {
      "cell_type": "markdown",
      "metadata": {
        "id": "0IV2Tn4AFobJ"
      },
      "source": [
        "### TextBlob for Sentiment Analysis"
      ]
    },
    {
      "cell_type": "code",
      "execution_count": null,
      "metadata": {
        "ExecuteTime": {
          "end_time": "2020-06-21T00:43:11.978158Z",
          "start_time": "2020-06-21T00:43:11.929636Z"
        },
        "colab": {
          "base_uri": "https://localhost:8080/"
        },
        "id": "b5ZYnE3kFobJ",
        "outputId": "e1979a3b-1caa-4758-8774-9325f88b4b7e"
      },
      "outputs": [],
      "source": [
        "sample_positive = train.text.loc[256332]\n",
        "print(sample_positive)\n",
        "parsed_positive = TextBlob(sample_positive)\n",
        "parsed_positive.polarity"
      ]
    },
    {
      "cell_type": "code",
      "execution_count": null,
      "metadata": {
        "ExecuteTime": {
          "end_time": "2020-06-21T00:43:11.987157Z",
          "start_time": "2020-06-21T00:43:11.980272Z"
        },
        "colab": {
          "base_uri": "https://localhost:8080/"
        },
        "id": "UQi4b4IbFobJ",
        "outputId": "b5efb9fc-75fd-499a-e186-9aeb08f79e5d"
      },
      "outputs": [],
      "source": [
        "sample_negative = train.text.loc[636079]\n",
        "print(sample_negative)\n",
        "parsed_negative = TextBlob(sample_negative)\n",
        "parsed_negative.polarity"
      ]
    },
    {
      "cell_type": "code",
      "execution_count": null,
      "metadata": {
        "ExecuteTime": {
          "end_time": "2020-06-21T00:43:12.000962Z",
          "start_time": "2020-06-21T00:43:11.998282Z"
        },
        "id": "pZDQv6dSFobJ"
      },
      "outputs": [],
      "source": [
        "def estimate_polarity(text):\n",
        "    return TextBlob(text).sentiment.polarity"
      ]
    },
    {
      "cell_type": "code",
      "execution_count": null,
      "metadata": {
        "ExecuteTime": {
          "end_time": "2020-06-21T00:43:12.122410Z",
          "start_time": "2020-06-21T00:43:12.001988Z"
        },
        "colab": {
          "base_uri": "https://localhost:8080/",
          "height": 363
        },
        "id": "XKWHPgbyFobJ",
        "outputId": "bc6ac536-acec-4a66-ba50-dc1021ebbf02"
      },
      "outputs": [],
      "source": [
        "train[['text']].sample(10).assign(sentiment=lambda x: x.text.apply(estimate_polarity)).sort_values('sentiment')"
      ]
    },
    {
      "cell_type": "markdown",
      "metadata": {
        "id": "tapdZk-cFobJ"
      },
      "source": [
        "### Compare with TextBlob Polarity Score"
      ]
    },
    {
      "cell_type": "markdown",
      "metadata": {
        "id": "8N64N585FobJ"
      },
      "source": [
        "We also obtain TextBlob sentiment scores for the tweets and note (see left panel in below figure) that positive test tweets receive a significantly higher sentiment estimate. We then use the MultinomialNB ‘s model .predict_proba() method to compute predicted probabilities and compare both models using the respective Area Under the Curve (see right panel below)."
      ]
    },
    {
      "cell_type": "code",
      "execution_count": null,
      "metadata": {
        "ExecuteTime": {
          "end_time": "2020-06-21T00:43:12.346372Z",
          "start_time": "2020-06-21T00:43:12.123460Z"
        },
        "id": "qgBuuI0PFobK"
      },
      "outputs": [],
      "source": [
        "test['sentiment'] = test.text.apply(estimate_polarity)"
      ]
    },
    {
      "cell_type": "code",
      "execution_count": null,
      "metadata": {
        "ExecuteTime": {
          "end_time": "2020-06-21T00:43:12.355982Z",
          "start_time": "2020-06-21T00:43:12.348343Z"
        },
        "colab": {
          "base_uri": "https://localhost:8080/"
        },
        "id": "X0K7qexLFobK",
        "outputId": "89cade92-62d3-4959-e892-a01e5fdb5635"
      },
      "outputs": [],
      "source": [
        "accuracy_score(test.polarity, (test.sentiment>0).astype(int))"
      ]
    },
    {
      "cell_type": "markdown",
      "metadata": {
        "id": "ImwNG48PFobK"
      },
      "source": [
        "#### ROC AUC Scores"
      ]
    },
    {
      "cell_type": "code",
      "execution_count": null,
      "metadata": {
        "ExecuteTime": {
          "end_time": "2020-06-21T00:43:12.372365Z",
          "start_time": "2020-06-21T00:43:12.357859Z"
        },
        "colab": {
          "base_uri": "https://localhost:8080/"
        },
        "id": "LLHhMr0SFobK",
        "outputId": "8f53f419-6f56-46cc-a038-c41abc2b39f1"
      },
      "outputs": [],
      "source": [
        "roc_auc_score(y_true=test.polarity, y_score=test.sentiment)"
      ]
    },
    {
      "cell_type": "code",
      "execution_count": null,
      "metadata": {
        "ExecuteTime": {
          "end_time": "2020-06-21T00:43:12.378394Z",
          "start_time": "2020-06-21T00:43:12.373345Z"
        },
        "colab": {
          "base_uri": "https://localhost:8080/"
        },
        "id": "ThnQdI3OFobK",
        "outputId": "4d3e7381-9e1a-483d-ebb6-fc088225d01d"
      },
      "outputs": [],
      "source": [
        "roc_auc_score(y_true=test.polarity, y_score=nb.predict_proba(test_dtm)[:, 1])"
      ]
    },
    {
      "cell_type": "code",
      "execution_count": null,
      "metadata": {
        "ExecuteTime": {
          "end_time": "2020-06-21T00:43:12.400769Z",
          "start_time": "2020-06-21T00:43:12.388229Z"
        },
        "id": "m257GfrZFobK"
      },
      "outputs": [],
      "source": [
        "fpr_tb, tpr_tb, _ = roc_curve(y_true=test.polarity, y_score=test.sentiment)\n",
        "roc_tb = pd.Series(tpr_tb, index=fpr_tb)\n",
        "fpr_nb, tpr_nb, _ = roc_curve(y_true=test.polarity, y_score=nb.predict_proba(test_dtm)[:, 1])\n",
        "roc_nb = pd.Series(tpr_nb, index=fpr_nb)"
      ]
    },
    {
      "cell_type": "markdown",
      "metadata": {
        "id": "KgiSQyW7FobK"
      },
      "source": [
        "The Naive Bayes model outperforms TextBlob in this case."
      ]
    },
    {
      "cell_type": "code",
      "execution_count": null,
      "metadata": {
        "ExecuteTime": {
          "end_time": "2020-06-21T00:43:12.751843Z",
          "start_time": "2020-06-21T00:43:12.401797Z"
        },
        "colab": {
          "base_uri": "https://localhost:8080/",
          "height": 441
        },
        "id": "-e_xgvSDFobK",
        "outputId": "91307675-28ec-4f09-bd38-2b8e0c55222d"
      },
      "outputs": [],
      "source": [
        "fig, axes = plt.subplots(ncols=2, figsize=(14, 6))\n",
        "sns.boxplot(x='polarity', y='sentiment', data=test, ax=axes[0])\n",
        "axes[0].set_title('TextBlob Sentiment Scores')\n",
        "roc_nb.plot(ax=axes[1], label='Naive Bayes', legend=True, lw=1, title='ROC Curves')\n",
        "roc_tb.plot(ax=axes[1], label='TextBlob', legend=True, lw=1)\n",
        "sns.despine()\n",
        "fig.tight_layout();"
      ]
    },
    {
      "cell_type": "code",
      "execution_count": null,
      "metadata": {
        "id": "jpAVEk2DJOTU"
      },
      "outputs": [],
      "source": []
    }
  ],
  "metadata": {
    "celltoolbar": "Slideshow",
    "colab": {
      "name": "07-2_sentiment_analysis_twitter.ipynb",
      "provenance": []
    },
    "kernelspec": {
      "display_name": "Python 3",
      "language": "python",
      "name": "python3"
    },
    "language_info": {
      "codemirror_mode": {
        "name": "ipython",
        "version": 3
      },
      "file_extension": ".py",
      "mimetype": "text/x-python",
      "name": "python",
      "nbconvert_exporter": "python",
      "pygments_lexer": "ipython3",
      "version": "3.7.7"
    },
    "toc": {
      "base_numbering": 1,
      "nav_menu": {},
      "number_sections": true,
      "sideBar": true,
      "skip_h1_title": true,
      "title_cell": "Table of Contents",
      "title_sidebar": "Contents",
      "toc_cell": false,
      "toc_position": {
        "height": "calc(100% - 180px)",
        "left": "10px",
        "top": "150px",
        "width": "316px"
      },
      "toc_section_display": true,
      "toc_window_display": true
    }
  },
  "nbformat": 4,
  "nbformat_minor": 0
}
