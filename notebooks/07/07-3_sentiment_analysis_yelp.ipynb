{
  "cells": [
    {
      "cell_type": "markdown",
      "metadata": {
        "id": "L1zL_JZ-KsLq"
      },
      "source": [
        "# Text classification and sentiment analysis: Yelp Reviews"
      ]
    },
    {
      "cell_type": "markdown",
      "metadata": {
        "id": "f-lz_sWPKsLv"
      },
      "source": [
        "<a href=\"https://colab.research.google.com/github/chu-ise/413A-2022/blob/main/notebooks/07/07-3_sentiment_analysis_yelp.ipynb\" target=\"_parent\"><img src=\"https://colab.research.google.com/assets/colab-badge.svg\" alt=\"Open In Colab\"/></a>"
      ]
    },
    {
      "cell_type": "markdown",
      "metadata": {
        "id": "7asE6g8xKsLv"
      },
      "source": [
        "Once text data has been converted into numerical features, text classification works just like any other classification task.\n",
        "\n",
        "In this notebook, we will apply these preprocessing technique to Yelp business reviews to classify them by review scores and sentiment polarity. More specifically, we will apply sentiment analysis to the significantly larger Yelp business review dataset with five outcome classes. "
      ]
    },
    {
      "cell_type": "markdown",
      "metadata": {
        "id": "F4jCun69KsLw"
      },
      "source": [
        "## Imports"
      ]
    },
    {
      "cell_type": "code",
      "execution_count": null,
      "metadata": {
        "ExecuteTime": {
          "end_time": "2020-06-20T22:31:14.252099Z",
          "start_time": "2020-06-20T22:31:14.250089Z"
        },
        "id": "9XcuyvK6KsLw"
      },
      "outputs": [],
      "source": [
        "import warnings\n",
        "warnings.filterwarnings('ignore')"
      ]
    },
    {
      "cell_type": "code",
      "execution_count": null,
      "metadata": {
        "ExecuteTime": {
          "end_time": "2020-06-20T22:31:15.068766Z",
          "start_time": "2020-06-20T22:31:14.433436Z"
        },
        "id": "FQOV5s5mKsLx"
      },
      "outputs": [],
      "source": [
        "%matplotlib inline\n",
        "\n",
        "from pathlib import Path\n",
        "import json\n",
        "from time import time\n",
        "\n",
        "import numpy as np\n",
        "import pandas as pd\n",
        "\n",
        "from scipy import sparse\n",
        "\n",
        "# spacy, textblob and nltk for language processing\n",
        "from textblob import TextBlob\n",
        "\n",
        "# sklearn for feature extraction & modeling\n",
        "from sklearn.feature_extraction.text import CountVectorizer\n",
        "from sklearn.naive_bayes import MultinomialNB\n",
        "from sklearn.linear_model import LogisticRegression\n",
        "from sklearn.metrics import accuracy_score, confusion_matrix\n",
        "import joblib\n",
        "\n",
        "import lightgbm as lgb\n",
        "\n",
        "# Visualization\n",
        "import matplotlib.pyplot as plt\n",
        "import seaborn as sns\n"
      ]
    },
    {
      "cell_type": "code",
      "execution_count": null,
      "metadata": {
        "ExecuteTime": {
          "end_time": "2020-06-20T22:31:15.755213Z",
          "start_time": "2020-06-20T22:31:15.751035Z"
        },
        "id": "O5nIsfGGKsLy"
      },
      "outputs": [],
      "source": [
        "sns.set_style('white')\n",
        "np.random.seed(42)"
      ]
    },
    {
      "cell_type": "markdown",
      "metadata": {
        "id": "1hQ0KtuRKsLy"
      },
      "source": [
        "## Yelp Challenge: business reviews dataset"
      ]
    },
    {
      "cell_type": "markdown",
      "metadata": {
        "id": "nXFH3Y9uKsLy"
      },
      "source": [
        "### Load Data"
      ]
    },
    {
      "cell_type": "code",
      "execution_count": null,
      "metadata": {
        "ExecuteTime": {
          "end_time": "2020-06-20T22:31:20.338294Z",
          "start_time": "2020-06-20T22:31:20.336457Z"
        },
        "colab": {
          "base_uri": "https://localhost:8080/",
          "height": 125
        },
        "id": "S1_rhnaiKsLz",
        "outputId": "fcfbefbe-d7cb-4ee5-99cc-960b83b9bf6d"
      },
      "outputs": [],
      "source": [
        "import gdown\n",
        "id = \"15lwx8KIdTtPwo_9Ls7zeEbYbjgGfTNzR\"\n",
        "\n",
        "data_file = \"yelp.zip\"\n",
        "gdown.cached_download(id=id, path=data_file, postprocess=gdown.extractall)"
      ]
    },
    {
      "cell_type": "code",
      "execution_count": null,
      "metadata": {
        "ExecuteTime": {
          "end_time": "2020-06-20T22:31:36.050276Z",
          "start_time": "2020-06-20T22:31:22.182112Z"
        },
        "id": "jd70dHvwKsLz",
        "scrolled": false
      },
      "outputs": [],
      "source": [
        "data_dir = Path('yelp')\n",
        "yelp_reviews = pd.read_parquet(data_dir / 'user_reviews_sample.parquet')"
      ]
    },
    {
      "cell_type": "code",
      "execution_count": null,
      "metadata": {
        "ExecuteTime": {
          "end_time": "2020-06-20T22:31:37.005166Z",
          "start_time": "2020-06-20T22:31:36.051543Z"
        },
        "colab": {
          "base_uri": "https://localhost:8080/"
        },
        "id": "Xkzb5vFpKsL0",
        "outputId": "c4efb871-cdc2-49fe-a343-41378212b880"
      },
      "outputs": [],
      "source": [
        "yelp_reviews.info(null_counts=True)"
      ]
    },
    {
      "cell_type": "markdown",
      "metadata": {
        "id": "1qaFe-RhKsL0"
      },
      "source": [
        "### Explore data"
      ]
    },
    {
      "cell_type": "code",
      "execution_count": null,
      "metadata": {
        "ExecuteTime": {
          "end_time": "2020-06-20T22:33:48.280743Z",
          "start_time": "2020-06-20T22:33:48.278310Z"
        },
        "id": "2nsW8mzGKsL0"
      },
      "outputs": [],
      "source": [
        "yelp_dir = Path('results', 'yelp')\n",
        "\n",
        "text_features_dir = yelp_dir / 'data'\n",
        "if not text_features_dir.exists():\n",
        "    text_features_dir.mkdir(exist_ok=True, parents=True)"
      ]
    },
    {
      "cell_type": "markdown",
      "metadata": {
        "id": "xNYMeoonKsL1"
      },
      "source": [
        "The following figure shows the number of reviews and the average number of stars per year."
      ]
    },
    {
      "cell_type": "markdown",
      "metadata": {
        "id": "L0HEKboXKsL1"
      },
      "source": [
        "#### Reviews & Stars by Year"
      ]
    },
    {
      "cell_type": "code",
      "execution_count": null,
      "metadata": {
        "ExecuteTime": {
          "end_time": "2020-06-20T22:32:54.666950Z",
          "start_time": "2020-06-20T22:31:41.122337Z"
        },
        "colab": {
          "base_uri": "https://localhost:8080/",
          "height": 297
        },
        "id": "iO3ZsjXvKsL1",
        "outputId": "97f9b40f-b252-42f1-8a54-76316b51b071"
      },
      "outputs": [],
      "source": [
        "fig, axes = plt.subplots(ncols=3, figsize=(18, 4))\n",
        "yelp_reviews.year.value_counts().sort_index().plot.bar(title='Reviews per Year', ax=axes[0], rot=0);\n",
        "sns.lineplot(x='year', y='stars', data=yelp_reviews, ax=axes[1])\n",
        "axes[1].set_title('Stars per year')\n",
        "\n",
        "stars_dist = yelp_reviews.stars.value_counts(normalize=True).sort_index().mul(100)\n",
        "stars_dist.index = stars_dist.index.astype(int)\n",
        "stars_dist.plot.barh(title='# Stars Breakdown', ax=axes[2])\n",
        "axes[2].set_xlabel('Share of all Ratings (%)')\n",
        "axes[2].set_ylabel('Number of Stars');\n",
        "\n",
        "sns.despine()\n",
        "fig.tight_layout();"
      ]
    },
    {
      "cell_type": "markdown",
      "metadata": {
        "id": "OTncy6roKsL1"
      },
      "source": [
        "#### Years of Membership Breakdown"
      ]
    },
    {
      "cell_type": "code",
      "execution_count": null,
      "metadata": {
        "ExecuteTime": {
          "end_time": "2020-06-20T22:32:54.923579Z",
          "start_time": "2020-06-20T22:32:54.668404Z"
        },
        "colab": {
          "base_uri": "https://localhost:8080/",
          "height": 297
        },
        "id": "5cjY-9XOKsL1",
        "outputId": "3fe923e5-efd7-41cb-8bcd-f9f209993ee2"
      },
      "outputs": [],
      "source": [
        "ax = yelp_reviews.member_yrs.value_counts().div(1000).sort_index().plot.bar(title='Years of Membership',\n",
        "                                                                            rot=0)\n",
        "ax.set_xlabel('Number of Years')\n",
        "ax.set_ylabel(\"Number of Members  ('000)\")\n",
        "sns.despine()\n",
        "plt.tight_layout()"
      ]
    },
    {
      "cell_type": "markdown",
      "metadata": {
        "id": "L9lNst5RKsL1"
      },
      "source": [
        "### Create train-test split"
      ]
    },
    {
      "cell_type": "code",
      "execution_count": null,
      "metadata": {
        "ExecuteTime": {
          "end_time": "2020-06-20T22:33:25.049533Z",
          "start_time": "2020-06-20T22:33:23.276179Z"
        },
        "id": "msOcEFOnKsL1"
      },
      "outputs": [],
      "source": [
        "train = yelp_reviews[yelp_reviews.year < 2019].sample(frac=.25)\n",
        "test = yelp_reviews[yelp_reviews.year == 2019]"
      ]
    },
    {
      "cell_type": "code",
      "execution_count": null,
      "metadata": {
        "ExecuteTime": {
          "end_time": "2020-06-20T22:33:25.053033Z",
          "start_time": "2020-06-20T22:33:25.050653Z"
        },
        "colab": {
          "base_uri": "https://localhost:8080/"
        },
        "id": "M11n19FoKsL2",
        "outputId": "d9726c27-f74c-464b-beee-6d980b0528af"
      },
      "outputs": [],
      "source": [
        "print(f'# Training Obs: {len(train):,.0f} | # Test Obs: {len(test):,.0f}')"
      ]
    },
    {
      "cell_type": "code",
      "execution_count": null,
      "metadata": {
        "ExecuteTime": {
          "end_time": "2020-06-20T22:34:12.665625Z",
          "start_time": "2020-06-20T22:34:03.973387Z"
        },
        "id": "RN5Yo_nDKsL2"
      },
      "outputs": [],
      "source": [
        "train.to_parquet(text_features_dir / 'train.parquet')\n",
        "test.to_parquet(text_features_dir / 'test.parquet')"
      ]
    },
    {
      "cell_type": "code",
      "execution_count": null,
      "metadata": {
        "ExecuteTime": {
          "end_time": "2020-06-20T22:39:47.190096Z",
          "start_time": "2020-06-20T22:39:46.262021Z"
        },
        "id": "plXJbrkgKsL2"
      },
      "outputs": [],
      "source": [
        "del yelp_reviews"
      ]
    },
    {
      "cell_type": "markdown",
      "metadata": {
        "id": "sHw-q9AaKsL2"
      },
      "source": [
        "#### Reload stored data"
      ]
    },
    {
      "cell_type": "code",
      "execution_count": null,
      "metadata": {
        "ExecuteTime": {
          "end_time": "2020-06-20T23:47:45.765592Z",
          "start_time": "2020-06-20T23:47:41.008125Z"
        },
        "id": "S5wMJ2JhKsL2"
      },
      "outputs": [],
      "source": [
        "train = pd.read_parquet(text_features_dir / 'train.parquet')\n",
        "test = pd.read_parquet(text_features_dir / 'test.parquet')"
      ]
    },
    {
      "cell_type": "markdown",
      "metadata": {
        "id": "pt6DLYmQKsL2"
      },
      "source": [
        "## Create Yelp review document-term matrix"
      ]
    },
    {
      "cell_type": "code",
      "execution_count": null,
      "metadata": {
        "ExecuteTime": {
          "end_time": "2020-06-20T22:37:23.986023Z",
          "start_time": "2020-06-20T22:34:18.938760Z"
        },
        "colab": {
          "base_uri": "https://localhost:8080/"
        },
        "id": "gk6jmhp2KsL2",
        "outputId": "430aa328-25b3-4497-924a-f42722a8bb49"
      },
      "outputs": [],
      "source": [
        "vectorizer = CountVectorizer(stop_words='english', ngram_range=(1, 2), max_features=10000)\n",
        "train_dtm = vectorizer.fit_transform(train.text)\n",
        "train_dtm"
      ]
    },
    {
      "cell_type": "code",
      "execution_count": null,
      "metadata": {
        "ExecuteTime": {
          "end_time": "2020-06-20T22:37:56.033921Z",
          "start_time": "2020-06-20T22:37:23.987293Z"
        },
        "id": "esf-Lh3AKsL2"
      },
      "outputs": [],
      "source": [
        "sparse.save_npz(text_features_dir / 'train_dtm', train_dtm)"
      ]
    },
    {
      "cell_type": "code",
      "execution_count": null,
      "metadata": {
        "ExecuteTime": {
          "end_time": "2020-06-20T22:39:38.728292Z",
          "start_time": "2020-06-20T22:37:56.034993Z"
        },
        "id": "AOiie--NKsL2"
      },
      "outputs": [],
      "source": [
        "test_dtm = vectorizer.transform(test.text)\n",
        "sparse.save_npz(text_features_dir / 'test_dtm', test_dtm)"
      ]
    },
    {
      "cell_type": "markdown",
      "metadata": {
        "id": "dYKeMfXyKsL2"
      },
      "source": [
        "### Reload stored data"
      ]
    },
    {
      "cell_type": "code",
      "execution_count": null,
      "metadata": {
        "ExecuteTime": {
          "end_time": "2020-06-20T22:24:52.201913Z",
          "start_time": "2020-06-20T22:24:45.716756Z"
        },
        "id": "Idh-09YNKsL2"
      },
      "outputs": [],
      "source": [
        "train_dtm = sparse.load_npz(text_features_dir / 'train_dtm.npz')\n",
        "test_dtm = sparse.load_npz(text_features_dir / 'test_dtm.npz')"
      ]
    },
    {
      "cell_type": "markdown",
      "metadata": {
        "id": "mgpubCx1KsL3"
      },
      "source": [
        "## Combine non-text features with the document-term matrix"
      ]
    },
    {
      "cell_type": "markdown",
      "metadata": {
        "id": "Hy_p6yxCKsL3"
      },
      "source": [
        "The dataset contains various numerical features. The vectorizers produce [scipy.sparse matrices](https://docs.scipy.org/doc/scipy/reference/sparse.html). To combine the vectorized text data with other features, we need to first convert these to sparse matrices as well; many sklearn objects and other libraries like lightgbm can handle these very memory-efficient data structures. Converting the sparse matrix to a dense numpy array risks memory overflow.\n",
        "\n",
        "Most variables are categorical so we use one-hot encoding since we have a fairly large dataset to accommodate the increase in features.\n",
        "\n",
        "We convert the encoded numerical features and combine them with the document-term matrix:"
      ]
    },
    {
      "cell_type": "markdown",
      "metadata": {
        "id": "mxZ7Her1KsL3"
      },
      "source": [
        "### One-hot-encoding "
      ]
    },
    {
      "cell_type": "code",
      "execution_count": null,
      "metadata": {
        "ExecuteTime": {
          "end_time": "2020-06-20T22:39:39.165235Z",
          "start_time": "2020-06-20T22:39:38.729447Z"
        },
        "id": "uKulIPj_KsL3"
      },
      "outputs": [],
      "source": [
        "df = pd.concat([train.drop(['text', 'stars'], axis=1).assign(source='train'),\n",
        "                test.drop(['text', 'stars'], axis=1).assign(source='test')])"
      ]
    },
    {
      "cell_type": "code",
      "execution_count": null,
      "metadata": {
        "ExecuteTime": {
          "end_time": "2020-06-20T22:39:46.260771Z",
          "start_time": "2020-06-20T22:39:39.167420Z"
        },
        "colab": {
          "base_uri": "https://localhost:8080/"
        },
        "id": "KzBZgTGUKsL3",
        "outputId": "7e80726f-f461-4b75-dcfc-75364a31a120"
      },
      "outputs": [],
      "source": [
        "uniques = df.nunique()\n",
        "binned = pd.concat([(df.loc[:, uniques[uniques > 20].index]\n",
        "                     .apply(pd.qcut, q=10, labels=False, duplicates='drop')),\n",
        "                    df.loc[:, uniques[uniques <= 20].index]], axis=1)\n",
        "binned.info(null_counts=True)"
      ]
    },
    {
      "cell_type": "code",
      "execution_count": null,
      "metadata": {
        "ExecuteTime": {
          "end_time": "2020-06-20T22:39:48.721702Z",
          "start_time": "2020-06-20T22:39:47.191554Z"
        },
        "colab": {
          "base_uri": "https://localhost:8080/"
        },
        "id": "yBu2_PaQKsL3",
        "outputId": "96312963-3e03-414d-fd39-e7868132f00b"
      },
      "outputs": [],
      "source": [
        "dummies = pd.get_dummies(binned, \n",
        "                         columns=binned.columns.drop('source'), \n",
        "                         drop_first=True)\n",
        "dummies.info()"
      ]
    },
    {
      "cell_type": "code",
      "execution_count": null,
      "metadata": {
        "ExecuteTime": {
          "end_time": "2020-06-20T22:39:49.237219Z",
          "start_time": "2020-06-20T22:39:48.723093Z"
        },
        "colab": {
          "base_uri": "https://localhost:8080/"
        },
        "id": "GmHHzjLJKsL3",
        "outputId": "ffc07e88-bd8b-4f29-960d-33a661624b15"
      },
      "outputs": [],
      "source": [
        "train_dummies = dummies[dummies.source=='train'].drop('source', axis=1)\n",
        "train_dummies.info()"
      ]
    },
    {
      "cell_type": "markdown",
      "metadata": {
        "id": "vZ2ggNNOKsL3"
      },
      "source": [
        "### Train set"
      ]
    },
    {
      "cell_type": "code",
      "execution_count": null,
      "metadata": {
        "ExecuteTime": {
          "end_time": "2020-06-20T22:39:50.923556Z",
          "start_time": "2020-06-20T22:39:49.238342Z"
        },
        "colab": {
          "base_uri": "https://localhost:8080/"
        },
        "id": "SUowAvuZKsL3",
        "outputId": "53eef386-4e71-4015-ca21-b8aac7ad6cbd"
      },
      "outputs": [],
      "source": [
        "# Cast other feature columns to float and convert to a sparse matrix.\n",
        "train_numeric = sparse.csr_matrix(train_dummies.astype(np.uint8))\n",
        "train_numeric.shape"
      ]
    },
    {
      "cell_type": "code",
      "execution_count": null,
      "metadata": {
        "ExecuteTime": {
          "end_time": "2020-06-20T22:39:52.864825Z",
          "start_time": "2020-06-20T22:39:50.925657Z"
        },
        "colab": {
          "base_uri": "https://localhost:8080/"
        },
        "id": "mBenGeunKsL3",
        "outputId": "1f9dd577-35e7-4b82-f418-bf9885b9d576"
      },
      "outputs": [],
      "source": [
        "# Combine sparse matrices.\n",
        "train_dtm_numeric = sparse.hstack((train_dtm, train_numeric))\n",
        "train_dtm_numeric.shape"
      ]
    },
    {
      "cell_type": "code",
      "execution_count": null,
      "metadata": {
        "ExecuteTime": {
          "end_time": "2020-06-20T22:40:32.059846Z",
          "start_time": "2020-06-20T22:39:52.866020Z"
        },
        "id": "fbg0Fw0yKsL3"
      },
      "outputs": [],
      "source": [
        "sparse.save_npz(text_features_dir / 'train_dtm_numeric', \n",
        "                train_dtm_numeric)"
      ]
    },
    {
      "cell_type": "markdown",
      "metadata": {
        "id": "AolSJrvyKsL4"
      },
      "source": [
        "### Repeat for test set"
      ]
    },
    {
      "cell_type": "code",
      "execution_count": null,
      "metadata": {
        "ExecuteTime": {
          "end_time": "2020-06-20T22:40:34.942725Z",
          "start_time": "2020-06-20T22:40:32.062062Z"
        },
        "colab": {
          "base_uri": "https://localhost:8080/"
        },
        "id": "3_zzWB-wKsL4",
        "outputId": "1ec109de-53a1-4828-b05d-164118088b55"
      },
      "outputs": [],
      "source": [
        "test_dummies = dummies[dummies.source=='test'].drop('source', axis=1)\n",
        "test_numeric = sparse.csr_matrix(test_dummies.astype(np.int8))\n",
        "test_dtm_numeric = sparse.hstack((test_dtm, test_numeric))\n",
        "test_dtm_numeric.shape"
      ]
    },
    {
      "cell_type": "code",
      "execution_count": null,
      "metadata": {
        "ExecuteTime": {
          "end_time": "2020-06-20T22:40:58.453119Z",
          "start_time": "2020-06-20T22:40:34.943972Z"
        },
        "id": "aSQe5gBXKsL4"
      },
      "outputs": [],
      "source": [
        "sparse.save_npz(text_features_dir / 'test_dtm_numeric', test_dtm_numeric)"
      ]
    },
    {
      "cell_type": "markdown",
      "metadata": {
        "id": "lkt5p3trKsL4"
      },
      "source": [
        "### Reload stored data"
      ]
    },
    {
      "cell_type": "code",
      "execution_count": null,
      "metadata": {
        "ExecuteTime": {
          "start_time": "2020-06-20T22:02:02.449Z"
        },
        "id": "fWYl7FkPKsL4"
      },
      "outputs": [],
      "source": [
        "train_dtm_numeric = sparse.load_npz(text_features_dir / 'train_dtm_numeric.npz')\n",
        "test_dtm_numeric = sparse.load_npz(text_features_dir / 'test_dtm_numeric.npz')"
      ]
    },
    {
      "cell_type": "markdown",
      "metadata": {
        "id": "U6_w0OL-KsL5"
      },
      "source": [
        "## Benchmark Accuracy"
      ]
    },
    {
      "cell_type": "code",
      "execution_count": null,
      "metadata": {
        "ExecuteTime": {
          "end_time": "2020-06-20T22:42:50.977219Z",
          "start_time": "2020-06-20T22:42:50.972604Z"
        },
        "id": "UJOkR4tBKsL5"
      },
      "outputs": [],
      "source": [
        "accuracy, runtime = {}, {}\n",
        "predictions = test[['stars']].copy()"
      ]
    },
    {
      "cell_type": "markdown",
      "metadata": {
        "id": "K9B4r8zyKsL5"
      },
      "source": [
        "Using the most frequent number of stars (=5) to predict the test set achieve an accuracy close to 51%:"
      ]
    },
    {
      "cell_type": "code",
      "execution_count": null,
      "metadata": {
        "ExecuteTime": {
          "end_time": "2020-06-20T22:42:51.489449Z",
          "start_time": "2020-06-20T22:42:51.475952Z"
        },
        "id": "665giQ7MKsL5"
      },
      "outputs": [],
      "source": [
        "naive_prediction = np.full_like(predictions.stars,\n",
        "                                fill_value=train.stars.mode().iloc[0])"
      ]
    },
    {
      "cell_type": "code",
      "execution_count": null,
      "metadata": {
        "ExecuteTime": {
          "end_time": "2020-06-20T22:42:51.801719Z",
          "start_time": "2020-06-20T22:42:51.748630Z"
        },
        "id": "RArbpqRVKsL5"
      },
      "outputs": [],
      "source": [
        "naive_benchmark = accuracy_score(predictions.stars, naive_prediction)"
      ]
    },
    {
      "cell_type": "code",
      "execution_count": null,
      "metadata": {
        "ExecuteTime": {
          "end_time": "2020-06-20T22:42:52.595624Z",
          "start_time": "2020-06-20T22:42:52.593212Z"
        },
        "colab": {
          "base_uri": "https://localhost:8080/"
        },
        "id": "j25RWiHBKsL5",
        "outputId": "b5bde517-874c-4158-d59e-3b1cb3691bec"
      },
      "outputs": [],
      "source": [
        "naive_benchmark"
      ]
    },
    {
      "cell_type": "markdown",
      "metadata": {
        "id": "jGCw_JDrKsL5"
      },
      "source": [
        "## Model Evaluation Helper"
      ]
    },
    {
      "cell_type": "code",
      "execution_count": null,
      "metadata": {
        "ExecuteTime": {
          "end_time": "2020-06-20T22:42:57.625152Z",
          "start_time": "2020-06-20T22:42:57.622377Z"
        },
        "id": "tvtaP67MKsL5"
      },
      "outputs": [],
      "source": [
        "def evaluate_model(model, X_train, X_test, name, store=False):\n",
        "    start = time()\n",
        "    model.fit(X_train, train.stars)\n",
        "    runtime[name] = time() - start\n",
        "    predictions[name] = model.predict(X_test)\n",
        "    accuracy[result] = accuracy_score(test.stars, predictions[result])\n",
        "    if store:\n",
        "        joblib.dump(model, f'results/{result}.joblib')"
      ]
    },
    {
      "cell_type": "markdown",
      "metadata": {
        "id": "HHh_PjJ0KsL5"
      },
      "source": [
        "## Multiclass Naive Bayes"
      ]
    },
    {
      "cell_type": "code",
      "execution_count": null,
      "metadata": {
        "ExecuteTime": {
          "end_time": "2020-06-20T22:42:58.131555Z",
          "start_time": "2020-06-20T22:42:58.128408Z"
        },
        "id": "qldVfJLYKsL5"
      },
      "outputs": [],
      "source": [
        "nb = MultinomialNB()"
      ]
    },
    {
      "cell_type": "markdown",
      "metadata": {
        "id": "xQ-yIjSWKsL5"
      },
      "source": [
        "### Text Features"
      ]
    },
    {
      "cell_type": "markdown",
      "metadata": {
        "id": "_Zc7k7g0KsL5"
      },
      "source": [
        "Next, we train a Naive Bayes classifier using a document-term matrix produced by the CountVectorizer with default settings."
      ]
    },
    {
      "cell_type": "code",
      "execution_count": null,
      "metadata": {
        "ExecuteTime": {
          "end_time": "2020-06-20T22:42:58.630370Z",
          "start_time": "2020-06-20T22:42:58.628383Z"
        },
        "id": "Qd6qJXj8KsL5"
      },
      "outputs": [],
      "source": [
        "result = 'nb_text'"
      ]
    },
    {
      "cell_type": "code",
      "execution_count": null,
      "metadata": {
        "ExecuteTime": {
          "end_time": "2020-06-20T22:43:00.026736Z",
          "start_time": "2020-06-20T22:42:58.925479Z"
        },
        "id": "a_HeZcHjKsL5"
      },
      "outputs": [],
      "source": [
        "evaluate_model(nb, train_dtm, test_dtm, result, store=False)"
      ]
    },
    {
      "cell_type": "markdown",
      "metadata": {
        "id": "oTVQAc6MKsL6"
      },
      "source": [
        "#### Accuracy"
      ]
    },
    {
      "cell_type": "markdown",
      "metadata": {
        "id": "CF_bHphoKsL6"
      },
      "source": [
        "The prediction produces 64.4% accuracy on the test set, a 24.2% improvement over the benchmark:"
      ]
    },
    {
      "cell_type": "code",
      "execution_count": null,
      "metadata": {
        "ExecuteTime": {
          "end_time": "2020-06-20T22:43:02.330906Z",
          "start_time": "2020-06-20T22:43:02.328364Z"
        },
        "colab": {
          "base_uri": "https://localhost:8080/"
        },
        "id": "MrTj1LCMKsL6",
        "outputId": "18e6bf24-0d3d-4314-b4fd-80582778a463"
      },
      "outputs": [],
      "source": [
        "accuracy[result]"
      ]
    },
    {
      "cell_type": "markdown",
      "metadata": {
        "id": "JORgVLWQKsL6"
      },
      "source": [
        "#### Confusion Matrix"
      ]
    },
    {
      "cell_type": "code",
      "execution_count": null,
      "metadata": {
        "ExecuteTime": {
          "end_time": "2020-06-20T22:43:05.841915Z",
          "start_time": "2020-06-20T22:43:05.196945Z"
        },
        "colab": {
          "base_uri": "https://localhost:8080/",
          "height": 206
        },
        "id": "DwZ_qGkSKsL6",
        "outputId": "d6e59b81-9e15-492f-f3aa-4401014c50ad"
      },
      "outputs": [],
      "source": [
        "stars = index = list(range(1, 6))\n",
        "pd.DataFrame(confusion_matrix(test.stars, \n",
        "                              predictions[result]),\n",
        "             columns=stars,\n",
        "             index=stars)"
      ]
    },
    {
      "cell_type": "markdown",
      "metadata": {
        "id": "fhAoR1b1KsL6"
      },
      "source": [
        "### Text & Numeric Features"
      ]
    },
    {
      "cell_type": "code",
      "execution_count": null,
      "metadata": {
        "ExecuteTime": {
          "end_time": "2020-06-20T22:43:05.845364Z",
          "start_time": "2020-06-20T22:43:05.843297Z"
        },
        "id": "-M2gNDz_KsL6"
      },
      "outputs": [],
      "source": [
        "result = 'nb_combined'"
      ]
    },
    {
      "cell_type": "code",
      "execution_count": null,
      "metadata": {
        "ExecuteTime": {
          "end_time": "2020-06-20T22:43:10.443471Z",
          "start_time": "2020-06-20T22:43:05.986234Z"
        },
        "id": "N7HnKCqGKsL6"
      },
      "outputs": [],
      "source": [
        "evaluate_model(nb, train_dtm_numeric, test_dtm_numeric, result, store=False)"
      ]
    },
    {
      "cell_type": "markdown",
      "metadata": {
        "id": "QyOjGUfRKsL6"
      },
      "source": [
        "#### Accuracy"
      ]
    },
    {
      "cell_type": "code",
      "execution_count": null,
      "metadata": {
        "ExecuteTime": {
          "end_time": "2020-06-20T22:43:10.447446Z",
          "start_time": "2020-06-20T22:43:10.444431Z"
        },
        "colab": {
          "base_uri": "https://localhost:8080/"
        },
        "id": "k9GeLR7eKsL6",
        "outputId": "1bddf0da-e477-4a85-9015-4fecc910c1a8"
      },
      "outputs": [],
      "source": [
        "accuracy[result]"
      ]
    },
    {
      "cell_type": "markdown",
      "metadata": {
        "id": "SbX0vka_KsL6"
      },
      "source": [
        "## Multinomial Logistic Regression"
      ]
    },
    {
      "cell_type": "markdown",
      "metadata": {
        "id": "ynpRrRC6KsL6"
      },
      "source": [
        "Logistic regression also provides a multinomial training option that is faster and more accurate than the one-vs-all implementation. We use the lbfgs solver (see sklearn [documentation](http://scikit-learn.org/stable/modules/generated/sklearn.linear_model.LogisticRegression.html) for details)."
      ]
    },
    {
      "cell_type": "code",
      "execution_count": null,
      "metadata": {
        "ExecuteTime": {
          "end_time": "2020-06-20T22:43:30.580800Z",
          "start_time": "2020-06-20T22:43:30.578828Z"
        },
        "id": "z1LdYsBIKsL6"
      },
      "outputs": [],
      "source": [
        "Cs = np.logspace(-5, 5, 11)"
      ]
    },
    {
      "cell_type": "markdown",
      "metadata": {
        "id": "8-73Ry3hKsL6"
      },
      "source": [
        "### Text Features"
      ]
    },
    {
      "cell_type": "code",
      "execution_count": null,
      "metadata": {
        "ExecuteTime": {
          "end_time": "2020-06-20T23:07:29.542715Z",
          "start_time": "2020-06-20T22:46:47.149134Z"
        },
        "colab": {
          "base_uri": "https://localhost:8080/"
        },
        "id": "4fwyfXUeKsL6",
        "outputId": "85fc89af-92d6-4b7e-b972-3d7d18022c4b"
      },
      "outputs": [],
      "source": [
        "log_reg_text_accuracy = {}\n",
        "log_reg_text_runtime = []\n",
        "for i, C in enumerate(Cs):\n",
        "    start = time()\n",
        "    model = LogisticRegression(C=C,\n",
        "                               multi_class='multinomial',\n",
        "                               solver='lbfgs')\n",
        "\n",
        "    model.fit(train_dtm, train.stars)\n",
        "    log_reg_text_runtime.append(time() - start)\n",
        "    log_reg_text_accuracy[C] = accuracy_score(test.stars,\n",
        "                                              model.predict(test_dtm))\n",
        "\n",
        "    print(f'{C:12.5f}: {log_reg_text_runtime[i]:.2f}s | {log_reg_text_accuracy[C]:.2%}', flush=True)"
      ]
    },
    {
      "cell_type": "code",
      "execution_count": null,
      "metadata": {
        "ExecuteTime": {
          "end_time": "2020-06-20T23:07:29.553513Z",
          "start_time": "2020-06-20T23:07:29.543848Z"
        },
        "id": "6fUTkEQkKsL6"
      },
      "outputs": [],
      "source": [
        "pd.Series(log_reg_text_accuracy).to_csv(yelp_dir / 'logreg_text.csv')"
      ]
    },
    {
      "cell_type": "code",
      "execution_count": null,
      "metadata": {
        "ExecuteTime": {
          "end_time": "2020-06-20T23:07:29.569466Z",
          "start_time": "2020-06-20T23:07:29.555252Z"
        },
        "id": "JSbCHKi_KsL6"
      },
      "outputs": [],
      "source": [
        "accuracy['lr_text'] = pd.Series(log_reg_text_accuracy).max()\n",
        "runtime['lr_text'] = np.mean(log_reg_text_runtime)"
      ]
    },
    {
      "cell_type": "markdown",
      "metadata": {
        "id": "9P2sqqUDKsL7"
      },
      "source": [
        "### Combined Features"
      ]
    },
    {
      "cell_type": "code",
      "execution_count": null,
      "metadata": {
        "ExecuteTime": {
          "end_time": "2020-06-20T23:37:05.681465Z",
          "start_time": "2020-06-20T23:13:45.912739Z"
        },
        "colab": {
          "base_uri": "https://localhost:8080/"
        },
        "id": "B7zg6V0QKsL7",
        "outputId": "cb95df6f-9e68-4120-b6c6-aa8547cdfc94"
      },
      "outputs": [],
      "source": [
        "log_reg_comb_accuracy = {}\n",
        "log_reg_comb_runtime = []\n",
        "for i, C in enumerate(Cs):\n",
        "    start = time()\n",
        "    model = LogisticRegression(C=C,\n",
        "                               multi_class='multinomial',\n",
        "                               solver='lbfgs')\n",
        "\n",
        "    model.fit(train_dtm_numeric, train.stars)\n",
        "    log_reg_comb_runtime.append(time() - start)\n",
        "    log_reg_comb_accuracy[C] = accuracy_score(test.stars,\n",
        "                                              model.predict(test_dtm_numeric))\n",
        "\n",
        "    print(f'{C:12.5f}: {log_reg_comb_runtime[i]:.2f}s | {log_reg_comb_accuracy[C]:.2%}', flush=True)"
      ]
    },
    {
      "cell_type": "code",
      "execution_count": null,
      "metadata": {
        "ExecuteTime": {
          "end_time": "2020-06-20T23:37:05.685351Z",
          "start_time": "2020-06-20T23:37:05.682493Z"
        },
        "id": "FZhYE3akKsL7"
      },
      "outputs": [],
      "source": [
        "pd.Series(log_reg_comb_accuracy).to_csv(yelp_dir / 'logreg_combined.csv')"
      ]
    },
    {
      "cell_type": "code",
      "execution_count": null,
      "metadata": {
        "ExecuteTime": {
          "end_time": "2020-06-20T23:37:05.695321Z",
          "start_time": "2020-06-20T23:37:05.686557Z"
        },
        "id": "y1BoO6oQKsL7"
      },
      "outputs": [],
      "source": [
        "accuracy['lr_comb'] = pd.Series(log_reg_comb_accuracy).max()\n",
        "runtime['lr_comb'] = np.mean(log_reg_comb_runtime)"
      ]
    },
    {
      "cell_type": "markdown",
      "metadata": {
        "id": "I65BwhPJKsL7"
      },
      "source": [
        "## Gradient Boosting"
      ]
    },
    {
      "cell_type": "markdown",
      "metadata": {
        "id": "9h_XsdJtKsL7"
      },
      "source": [
        "For illustration, we also train a lightgbm Gradient Boosting tree ensemble with default settings and multiclass objective."
      ]
    },
    {
      "cell_type": "code",
      "execution_count": null,
      "metadata": {
        "ExecuteTime": {
          "end_time": "2020-06-20T23:48:02.787711Z",
          "start_time": "2020-06-20T23:47:59.109776Z"
        },
        "id": "3rmQtw_6KsL7"
      },
      "outputs": [],
      "source": [
        "lgb_train = lgb.Dataset(data=train_dtm_numeric.tocsr().astype(np.float32), \n",
        "                        label=train.stars.sub(1), \n",
        "                        categorical_feature=list(range(train_dtm_numeric.shape[1])))"
      ]
    },
    {
      "cell_type": "code",
      "execution_count": null,
      "metadata": {
        "ExecuteTime": {
          "end_time": "2020-06-20T23:48:03.192336Z",
          "start_time": "2020-06-20T23:48:02.788712Z"
        },
        "id": "xwqZ-kyzKsL7"
      },
      "outputs": [],
      "source": [
        "lgb_test = lgb.Dataset(data=test_dtm_numeric.tocsr().astype(np.float32), \n",
        "                       label=test.stars.sub(1), \n",
        "                       reference=lgb_train)"
      ]
    },
    {
      "cell_type": "code",
      "execution_count": null,
      "metadata": {
        "ExecuteTime": {
          "end_time": "2020-06-20T23:48:03.195773Z",
          "start_time": "2020-06-20T23:48:03.193461Z"
        },
        "id": "tkrYEA8uKsL7"
      },
      "outputs": [],
      "source": [
        "param = {'objective': 'multiclass',\n",
        "         'metrics': ['multi_error'],\n",
        "         'num_class': 5}"
      ]
    },
    {
      "cell_type": "code",
      "execution_count": null,
      "metadata": {
        "ExecuteTime": {
          "end_time": "2020-06-21T01:19:02.695721Z",
          "start_time": "2020-06-20T23:48:03.197049Z"
        },
        "colab": {
          "base_uri": "https://localhost:8080/"
        },
        "id": "nImMvINLKsL7",
        "outputId": "8c409412-2494-4e4d-e95c-eb7183713007",
        "scrolled": false
      },
      "outputs": [],
      "source": [
        "booster = lgb.train(params=param,\n",
        "                    train_set=lgb_train,\n",
        "                    num_boost_round=2000,\n",
        "                    early_stopping_rounds=25,\n",
        "                    valid_sets=[lgb_train, lgb_test],\n",
        "                    verbose_eval=25)"
      ]
    },
    {
      "cell_type": "code",
      "execution_count": null,
      "metadata": {
        "ExecuteTime": {
          "end_time": "2020-06-21T01:19:02.830286Z",
          "start_time": "2020-06-21T01:19:02.696640Z"
        },
        "id": "QeN-tg74KsL7"
      },
      "outputs": [],
      "source": [
        "booster.save_model((yelp_dir / 'lgb_model.txt').as_posix());"
      ]
    },
    {
      "cell_type": "code",
      "execution_count": null,
      "metadata": {
        "ExecuteTime": {
          "end_time": "2020-06-21T01:23:53.428840Z",
          "start_time": "2020-06-21T01:19:02.831299Z"
        },
        "id": "DDvpDIPDKsL7"
      },
      "outputs": [],
      "source": [
        "y_pred_class = booster.predict(test_dtm_numeric.astype(float))"
      ]
    },
    {
      "cell_type": "markdown",
      "metadata": {
        "id": "u42xj_boKsL7"
      },
      "source": [
        "The basic settings did not improve over the multinomial logistic regression, but further parameter tuning remains an unused option."
      ]
    },
    {
      "cell_type": "code",
      "execution_count": null,
      "metadata": {
        "ExecuteTime": {
          "end_time": "2020-06-21T01:23:53.507356Z",
          "start_time": "2020-06-21T01:23:53.429881Z"
        },
        "id": "mo_VUY_iKsL7"
      },
      "outputs": [],
      "source": [
        "accuracy['lgb_comb'] = accuracy_score(test.stars, y_pred_class.argmax(1) + 1)"
      ]
    },
    {
      "cell_type": "markdown",
      "metadata": {
        "id": "gbeeWs2KKsL7"
      },
      "source": [
        "## Comparison"
      ]
    },
    {
      "cell_type": "code",
      "execution_count": null,
      "metadata": {
        "ExecuteTime": {
          "end_time": "2020-06-21T01:30:47.685215Z",
          "start_time": "2020-06-21T01:30:47.678355Z"
        },
        "id": "8ke0YfqqKsL7"
      },
      "outputs": [],
      "source": [
        "model_map = {'nb_combined': 'Naive Bayes',\n",
        "             'lr_comb': 'Logistic Regression',\n",
        "             'lgb_comb': 'LightGBM'}"
      ]
    },
    {
      "cell_type": "code",
      "execution_count": null,
      "metadata": {
        "ExecuteTime": {
          "end_time": "2020-06-21T02:05:08.492311Z",
          "start_time": "2020-06-21T02:05:08.490190Z"
        },
        "id": "R3nJyH_tKsL7"
      },
      "outputs": [],
      "source": [
        "accuracy_ = {model_map[k]: v for k, v in accuracy.items() if model_map.get(k)}"
      ]
    },
    {
      "cell_type": "code",
      "execution_count": null,
      "metadata": {
        "ExecuteTime": {
          "end_time": "2020-06-21T02:05:09.077394Z",
          "start_time": "2020-06-21T02:05:09.070418Z"
        },
        "id": "xWt3vK99KsL7"
      },
      "outputs": [],
      "source": [
        "log_reg_text = pd.read_csv(yelp_dir / 'logreg_text.csv',\n",
        "                       index_col=0,\n",
        "                       squeeze=True)\n",
        "log_reg_combined = pd.read_csv(yelp_dir / 'logreg_combined.csv',\n",
        "                       index_col=0,\n",
        "                       squeeze=True)"
      ]
    },
    {
      "cell_type": "code",
      "execution_count": null,
      "metadata": {
        "ExecuteTime": {
          "end_time": "2020-06-21T02:05:42.706220Z",
          "start_time": "2020-06-21T02:05:42.145823Z"
        },
        "colab": {
          "base_uri": "https://localhost:8080/",
          "height": 297
        },
        "id": "G3koTfBTKsL8",
        "outputId": "4e5adc7a-11dc-41f6-d60b-470f378aa98c"
      },
      "outputs": [],
      "source": [
        "fig, axes = plt.subplots(ncols=2, figsize=(14, 4))\n",
        "pd.Series(accuracy_).sort_values().plot.barh(\n",
        "    ax=axes[0], xlim=(.45, .75), title='Accuracy by Model')\n",
        "axes[0].axvline(naive_benchmark, ls='--', lw=1, c='k')\n",
        "\n",
        "\n",
        "log_reg = (log_reg_text.to_frame('text')\n",
        "           .join(log_reg_combined.to_frame('combined')))\n",
        "log_reg.plot(logx=True,\n",
        "             ax=axes[1],\n",
        "             title='Logistic Regression - Model Tuning')\n",
        "axes[1].set_xlabel('Regularization')\n",
        "axes[1].set_ylabel('Accuracy')\n",
        "axes[0].set_xlabel('Accuracy')\n",
        "sns.despine()\n",
        "fig.tight_layout()"
      ]
    },
    {
      "cell_type": "markdown",
      "metadata": {
        "id": "te0Q_wEwKsL8"
      },
      "source": [
        "## Textblob for Sentiment Analysis"
      ]
    },
    {
      "cell_type": "code",
      "execution_count": null,
      "metadata": {
        "ExecuteTime": {
          "end_time": "2020-06-21T01:33:15.816005Z",
          "start_time": "2020-06-21T01:33:15.771890Z"
        },
        "colab": {
          "base_uri": "https://localhost:8080/"
        },
        "id": "mvrAynJ9KsL8",
        "outputId": "21dd7729-9b7f-4a1b-ca68-6d6b0d9c7e3c"
      },
      "outputs": [],
      "source": [
        "sample_review = train.text.sample(1).iloc[0]\n",
        "print(sample_review)"
      ]
    },
    {
      "cell_type": "code",
      "execution_count": null,
      "metadata": {
        "ExecuteTime": {
          "end_time": "2020-06-21T01:33:15.953592Z",
          "start_time": "2020-06-21T01:33:15.921212Z"
        },
        "colab": {
          "base_uri": "https://localhost:8080/"
        },
        "id": "8DRWO5whKsL8",
        "outputId": "55aef52b-ff69-4d98-c88f-ccd14763ed34"
      },
      "outputs": [],
      "source": [
        "# Polarity ranges from -1 (most negative) to 1 (most positive).\n",
        "TextBlob(sample_review).sentiment.polarity"
      ]
    },
    {
      "cell_type": "code",
      "execution_count": null,
      "metadata": {
        "ExecuteTime": {
          "end_time": "2020-06-21T01:33:16.084637Z",
          "start_time": "2020-06-21T01:33:16.081057Z"
        },
        "id": "1LSWz30CKsL8"
      },
      "outputs": [],
      "source": [
        "# Define a function that accepts text and returns the polarity.\n",
        "def detect_sentiment(text):\n",
        "    return TextBlob(text).sentiment.polarity"
      ]
    },
    {
      "cell_type": "code",
      "execution_count": null,
      "metadata": {
        "ExecuteTime": {
          "end_time": "2020-06-21T01:46:35.286143Z",
          "start_time": "2020-06-21T01:33:16.252155Z"
        },
        "id": "tlWPAUrKKsL8"
      },
      "outputs": [],
      "source": [
        "train['sentiment'] = train.text.apply(detect_sentiment)"
      ]
    },
    {
      "cell_type": "code",
      "execution_count": null,
      "metadata": {
        "ExecuteTime": {
          "end_time": "2020-06-21T01:46:35.421683Z",
          "start_time": "2020-06-21T01:46:35.287184Z"
        },
        "id": "KPFtxgWIKsL8"
      },
      "outputs": [],
      "source": [
        "sample_reviews = train[['stars', 'text']].sample(10000)"
      ]
    },
    {
      "cell_type": "code",
      "execution_count": null,
      "metadata": {
        "ExecuteTime": {
          "end_time": "2020-06-21T01:47:22.961955Z",
          "start_time": "2020-06-21T01:46:35.422792Z"
        },
        "id": "fhSZTdycKsL8"
      },
      "outputs": [],
      "source": [
        "# Create a new DataFrame column for sentiment (Warning: SLOW!).\n",
        "sample_reviews['sentiment'] = sample_reviews.text.apply(detect_sentiment)"
      ]
    },
    {
      "cell_type": "code",
      "execution_count": null,
      "metadata": {
        "ExecuteTime": {
          "end_time": "2020-06-21T01:47:23.391637Z",
          "start_time": "2020-06-21T01:47:22.963037Z"
        },
        "colab": {
          "base_uri": "https://localhost:8080/",
          "height": 279
        },
        "id": "HPekL6GxKsL8",
        "outputId": "114f1cd6-83ef-4e63-d8a6-64db68e6c39f"
      },
      "outputs": [],
      "source": [
        "# Box plot of sentiment grouped by stars\n",
        "sns.boxenplot(x='stars', y='sentiment', data=train);"
      ]
    },
    {
      "cell_type": "code",
      "execution_count": null,
      "metadata": {
        "ExecuteTime": {
          "end_time": "2020-06-21T01:47:23.394501Z",
          "start_time": "2020-06-21T01:47:23.392648Z"
        },
        "id": "cpOkldreKsL8"
      },
      "outputs": [],
      "source": [
        "# Widen the column display.\n",
        "pd.set_option('max_colwidth', 500)"
      ]
    },
    {
      "cell_type": "code",
      "execution_count": null,
      "metadata": {
        "ExecuteTime": {
          "end_time": "2020-06-21T01:47:23.415900Z",
          "start_time": "2020-06-21T01:47:23.395803Z"
        },
        "colab": {
          "base_uri": "https://localhost:8080/"
        },
        "id": "7ZlF2IChKsL8",
        "outputId": "a2274ab8-08ea-4c47-cf31-d9b7c55a50d0"
      },
      "outputs": [],
      "source": [
        "# Reviews with most negative sentiment\n",
        "train[train.sentiment == -1].text.head()"
      ]
    },
    {
      "cell_type": "code",
      "execution_count": null,
      "metadata": {
        "ExecuteTime": {
          "end_time": "2020-06-21T01:47:23.425332Z",
          "start_time": "2020-06-21T01:47:23.417267Z"
        },
        "colab": {
          "base_uri": "https://localhost:8080/"
        },
        "id": "O75rVCJ1KsL8",
        "outputId": "dbaba5c6-946c-4234-e2de-6678bfb99439"
      },
      "outputs": [],
      "source": [
        "# Negative sentiment in a 5-star review\n",
        "train.loc[(train.stars == 5) & (train.sentiment < -0.3), 'text'].head(1)"
      ]
    },
    {
      "cell_type": "code",
      "execution_count": null,
      "metadata": {
        "ExecuteTime": {
          "end_time": "2020-06-21T01:47:23.437225Z",
          "start_time": "2020-06-21T01:47:23.426564Z"
        },
        "colab": {
          "base_uri": "https://localhost:8080/"
        },
        "id": "o2m4t6zDKsL8",
        "outputId": "97e4e2c5-d801-44af-87d5-3291f340ebd7"
      },
      "outputs": [],
      "source": [
        "# Positive sentiment in a 1-star review\n",
        "train.loc[(train.stars == 1) & (train.sentiment > 0.5), 'text'].head(1)"
      ]
    },
    {
      "cell_type": "code",
      "execution_count": null,
      "metadata": {
        "ExecuteTime": {
          "end_time": "2020-06-21T01:47:23.447787Z",
          "start_time": "2020-06-21T01:47:23.438154Z"
        },
        "id": "An5XHmCeKsL9"
      },
      "outputs": [],
      "source": [
        "# Reset the column display width.\n",
        "pd.reset_option('max_colwidth')"
      ]
    },
    {
      "cell_type": "code",
      "execution_count": null,
      "metadata": {
        "id": "DXdgcbPQOsEd"
      },
      "outputs": [],
      "source": []
    }
  ],
  "metadata": {
    "celltoolbar": "Slideshow",
    "colab": {
      "name": "07-3_sentiment_analysis_yelp.ipynb",
      "provenance": []
    },
    "kernelspec": {
      "display_name": "Python 3",
      "language": "python",
      "name": "python3"
    },
    "language_info": {
      "codemirror_mode": {
        "name": "ipython",
        "version": 3
      },
      "file_extension": ".py",
      "mimetype": "text/x-python",
      "name": "python",
      "nbconvert_exporter": "python",
      "pygments_lexer": "ipython3",
      "version": "3.7.7"
    },
    "toc": {
      "base_numbering": 1,
      "nav_menu": {},
      "number_sections": true,
      "sideBar": true,
      "skip_h1_title": true,
      "title_cell": "Table of Contents",
      "title_sidebar": "Contents",
      "toc_cell": false,
      "toc_position": {
        "height": "calc(100% - 180px)",
        "left": "10px",
        "top": "150px",
        "width": "316px"
      },
      "toc_section_display": true,
      "toc_window_display": true
    }
  },
  "nbformat": 4,
  "nbformat_minor": 0
}
