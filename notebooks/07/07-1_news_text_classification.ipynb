{
  "cells": [
    {
      "cell_type": "markdown",
      "metadata": {
        "id": "ClK5AqB0Co_p"
      },
      "source": [
        "# Classifying news articles with Naive Bayes"
      ]
    },
    {
      "cell_type": "markdown",
      "metadata": {
        "id": "BH1zLcD8Co_s"
      },
      "source": [
        "<a href=\"https://colab.research.google.com/github/chu-ise/413A-2022/blob/main/notebooks/07/07-1_news_text_classification.ipynb\" target=\"_parent\"><img src=\"https://colab.research.google.com/assets/colab-badge.svg\" alt=\"Open In Colab\"/></a>"
      ]
    },
    {
      "cell_type": "markdown",
      "metadata": {
        "id": "G-V8YuA0Co_s"
      },
      "source": [
        "Once text data has been converted into numerical features, text classification works just like any other classification task."
      ]
    },
    {
      "cell_type": "markdown",
      "metadata": {
        "id": "aicWHIveCo_t"
      },
      "source": [
        "## Imports"
      ]
    },
    {
      "cell_type": "code",
      "execution_count": null,
      "metadata": {
        "ExecuteTime": {
          "end_time": "2020-06-20T17:19:53.091582Z",
          "start_time": "2020-06-20T17:19:52.678136Z"
        },
        "id": "t6gEpKC5Co_t"
      },
      "outputs": [],
      "source": [
        "%matplotlib inline\n",
        "\n",
        "from pathlib import Path\n",
        "\n",
        "import pandas as pd\n",
        "\n",
        "from sklearn.feature_extraction.text import CountVectorizer, TfidfVectorizer\n",
        "from sklearn.model_selection import train_test_split\n",
        "from sklearn.naive_bayes import MultinomialNB\n",
        "from sklearn.metrics import accuracy_score, confusion_matrix"
      ]
    },
    {
      "cell_type": "markdown",
      "metadata": {
        "id": "dRPOppPnCo_u"
      },
      "source": [
        "## News article classification"
      ]
    },
    {
      "cell_type": "markdown",
      "metadata": {
        "id": "_aMJdZ3_Co_v"
      },
      "source": [
        "We start with an illustration of the Naive Bayes model for news article classification using the BBC articles that we read as before to obtain a DataFrame with 2,225 articles from 5 categories."
      ]
    },
    {
      "cell_type": "markdown",
      "metadata": {
        "id": "Y3XhbMpgCo_v"
      },
      "source": [
        "### Read BBC articles"
      ]
    },
    {
      "cell_type": "code",
      "execution_count": null,
      "metadata": {
        "ExecuteTime": {
          "end_time": "2020-06-20T17:19:53.094355Z",
          "start_time": "2020-06-20T17:19:53.092732Z"
        },
        "colab": {
          "base_uri": "https://localhost:8080/",
          "height": 125
        },
        "id": "r0pEjH2bCo_w",
        "outputId": "eee91cef-d2c5-400e-d8ad-8ae947aa301c"
      },
      "outputs": [],
      "source": [
        "import gdown\n",
        "id = \"15jqsbZeUVz09McM3_CMxmPK39TyBYKFD\"\n",
        "data_file = \"bbc.zip\"\n",
        "gdown.cached_download(id=id, path=data_file, postprocess=gdown.extractall)"
      ]
    },
    {
      "cell_type": "code",
      "execution_count": null,
      "metadata": {
        "ExecuteTime": {
          "end_time": "2020-06-20T17:19:53.163883Z",
          "start_time": "2020-06-20T17:19:53.095758Z"
        },
        "id": "K5OxeEgVCo_w"
      },
      "outputs": [],
      "source": [
        "path = Path('bbc')\n",
        "files = sorted(list(path.glob('**/*.txt')))\n",
        "doc_list = []\n",
        "for i, file in enumerate(files):\n",
        "    topic = file.parts[-2]\n",
        "    article = file.read_text(encoding='latin1').split('\\n')\n",
        "    heading = article[0].strip()\n",
        "    body = ' '.join([l.strip() for l in article[1:]])\n",
        "    doc_list.append([topic, heading, body])"
      ]
    },
    {
      "cell_type": "code",
      "execution_count": null,
      "metadata": {
        "ExecuteTime": {
          "end_time": "2020-06-20T17:19:53.171001Z",
          "start_time": "2020-06-20T17:19:53.164892Z"
        },
        "colab": {
          "base_uri": "https://localhost:8080/"
        },
        "id": "IrUK6Bp9Co_x",
        "outputId": "6ee9f4f7-3824-42ee-ae4b-e509de5ba61a"
      },
      "outputs": [],
      "source": [
        "docs = pd.DataFrame(doc_list, columns=['topic', 'heading', 'body'])\n",
        "docs.info()"
      ]
    },
    {
      "cell_type": "code",
      "execution_count": null,
      "metadata": {
        "colab": {
          "base_uri": "https://localhost:8080/",
          "height": 206
        },
        "id": "-0QZzgB4Echv",
        "outputId": "1fd9f825-62c2-4ddf-f0c8-66d0156c9c0d"
      },
      "outputs": [],
      "source": [
        "docs.head()"
      ]
    },
    {
      "cell_type": "markdown",
      "metadata": {
        "id": "5QqgPAifCo_y"
      },
      "source": [
        "### Create stratified train-test split"
      ]
    },
    {
      "cell_type": "markdown",
      "metadata": {
        "id": "hkpnHlwKCo_y"
      },
      "source": [
        "We split the data into the default 75:25 train-test sets, ensuring that the test set classes closely mirror the train set:"
      ]
    },
    {
      "cell_type": "code",
      "execution_count": null,
      "metadata": {
        "ExecuteTime": {
          "end_time": "2020-06-20T17:19:53.190446Z",
          "start_time": "2020-06-20T17:19:53.171864Z"
        },
        "id": "OWz9Ix_lCo_z"
      },
      "outputs": [],
      "source": [
        "y = pd.factorize(docs.topic)[0]\n",
        "X = docs.body\n",
        "X_train, X_test, y_train, y_test = train_test_split(X, y, random_state=1, stratify=y)"
      ]
    },
    {
      "cell_type": "markdown",
      "metadata": {
        "id": "YBk5g9pYCo_z"
      },
      "source": [
        "### Vectorize text data"
      ]
    },
    {
      "cell_type": "markdown",
      "metadata": {
        "id": "L3VoJRAFCo_z"
      },
      "source": [
        "We proceed to learn the vocabulary from the training set and transforming both dataset using the CountVectorizer with default settings to obtain almost 26,000 features:"
      ]
    },
    {
      "cell_type": "code",
      "execution_count": null,
      "metadata": {
        "ExecuteTime": {
          "end_time": "2020-06-20T17:19:53.635972Z",
          "start_time": "2020-06-20T17:19:53.191386Z"
        },
        "id": "tb16ZOWYCo_0"
      },
      "outputs": [],
      "source": [
        "vectorizer = CountVectorizer()\n",
        "X_train_dtm = vectorizer.fit_transform(X_train)\n",
        "X_test_dtm = vectorizer.transform(X_test)"
      ]
    },
    {
      "cell_type": "code",
      "execution_count": null,
      "metadata": {
        "ExecuteTime": {
          "end_time": "2020-06-20T17:19:53.640210Z",
          "start_time": "2020-06-20T17:19:53.637190Z"
        },
        "colab": {
          "base_uri": "https://localhost:8080/"
        },
        "id": "I3T3ZIt6Co_0",
        "outputId": "4a6b5b46-13e8-41f6-f4ce-02ac127b5489"
      },
      "outputs": [],
      "source": [
        "X_train_dtm.shape, X_test_dtm.shape"
      ]
    },
    {
      "cell_type": "markdown",
      "metadata": {
        "id": "fpUSC3c_Co_0"
      },
      "source": [
        "### Train Multi-class Naive Bayes model"
      ]
    },
    {
      "cell_type": "code",
      "execution_count": null,
      "metadata": {
        "ExecuteTime": {
          "end_time": "2020-06-20T17:19:53.661506Z",
          "start_time": "2020-06-20T17:19:53.641173Z"
        },
        "id": "FDathj4YCo_0"
      },
      "outputs": [],
      "source": [
        "nb = MultinomialNB()\n",
        "nb.fit(X_train_dtm, y_train)\n",
        "y_pred_class = nb.predict(X_test_dtm)"
      ]
    },
    {
      "cell_type": "markdown",
      "metadata": {
        "id": "KsHmWqWsCo_0"
      },
      "source": [
        "### Evaluate Results"
      ]
    },
    {
      "cell_type": "markdown",
      "metadata": {
        "id": "yBco2gZNCo_1"
      },
      "source": [
        "We evaluate the multiclass predictions using accuracy to find the default classifier achieved almost 98%:"
      ]
    },
    {
      "cell_type": "markdown",
      "metadata": {
        "id": "9Y-PK-IqCo_1"
      },
      "source": [
        "#### Accuracy"
      ]
    },
    {
      "cell_type": "code",
      "execution_count": null,
      "metadata": {
        "ExecuteTime": {
          "end_time": "2020-06-20T17:19:53.669207Z",
          "start_time": "2020-06-20T17:19:53.662345Z"
        },
        "colab": {
          "base_uri": "https://localhost:8080/"
        },
        "id": "Um0swjdqCo_1",
        "outputId": "c6f2d7d9-4e63-4bb8-d285-bfdde7eca6c7"
      },
      "outputs": [],
      "source": [
        "accuracy_score(y_test, y_pred_class)"
      ]
    },
    {
      "cell_type": "markdown",
      "metadata": {
        "id": "cIRxX65zCo_1"
      },
      "source": [
        "#### Confusion matrix"
      ]
    },
    {
      "cell_type": "code",
      "execution_count": null,
      "metadata": {
        "ExecuteTime": {
          "end_time": "2020-06-20T17:19:53.690578Z",
          "start_time": "2020-06-20T17:19:53.670001Z"
        },
        "colab": {
          "base_uri": "https://localhost:8080/",
          "height": 206
        },
        "id": "Cl0BZ6AHCo_1",
        "outputId": "bbd02657-2a44-4ba7-e8c1-e047495e6c90"
      },
      "outputs": [],
      "source": [
        "pd.DataFrame(confusion_matrix(y_true=y_test, y_pred=y_pred_class))"
      ]
    },
    {
      "cell_type": "markdown",
      "metadata": {
        "id": "TDCvl9lmEvyN"
      },
      "source": [
        "### Vectorize text data as TFIDF"
      ]
    },
    {
      "cell_type": "code",
      "execution_count": null,
      "metadata": {
        "colab": {
          "base_uri": "https://localhost:8080/"
        },
        "id": "U-fw8rIQEjSu",
        "outputId": "0e148a47-3a11-4241-f690-ec371a96155a"
      },
      "outputs": [],
      "source": [
        "vectorizer = TfidfVectorizer()\n",
        "X_train_dtm = vectorizer.fit_transform(X_train)\n",
        "X_test_dtm = vectorizer.transform(X_test)\n",
        "\n",
        "nb = MultinomialNB()\n",
        "nb.fit(X_train_dtm, y_train)\n",
        "y_pred_class = nb.predict(X_test_dtm)\n",
        "\n",
        "accuracy_score(y_test, y_pred_class)"
      ]
    },
    {
      "cell_type": "code",
      "execution_count": null,
      "metadata": {
        "colab": {
          "base_uri": "https://localhost:8080/",
          "height": 206
        },
        "id": "PMM9nDlfE5Ln",
        "outputId": "cd29fb51-63b9-4e60-b2fa-96c56b15f64b"
      },
      "outputs": [],
      "source": [
        "pd.DataFrame(confusion_matrix(y_true=y_test, y_pred=y_pred_class))"
      ]
    },
    {
      "cell_type": "code",
      "execution_count": null,
      "metadata": {
        "id": "xk7Qb0CGE7Oz"
      },
      "outputs": [],
      "source": []
    }
  ],
  "metadata": {
    "celltoolbar": "Slideshow",
    "colab": {
      "name": "07-1_news_text_classification.ipynb",
      "provenance": []
    },
    "kernelspec": {
      "display_name": "Python 3",
      "language": "python",
      "name": "python3"
    },
    "language_info": {
      "codemirror_mode": {
        "name": "ipython",
        "version": 3
      },
      "file_extension": ".py",
      "mimetype": "text/x-python",
      "name": "python",
      "nbconvert_exporter": "python",
      "pygments_lexer": "ipython3",
      "version": "3.7.7"
    },
    "toc": {
      "base_numbering": 1,
      "nav_menu": {},
      "number_sections": true,
      "sideBar": true,
      "skip_h1_title": true,
      "title_cell": "Table of Contents",
      "title_sidebar": "Contents",
      "toc_cell": false,
      "toc_position": {
        "height": "calc(100% - 180px)",
        "left": "10px",
        "top": "150px",
        "width": "316px"
      },
      "toc_section_display": true,
      "toc_window_display": true
    }
  },
  "nbformat": 4,
  "nbformat_minor": 0
}
