{
  "cells": [
    {
      "cell_type": "markdown",
      "metadata": {
        "id": "oEF8l_yUxVez"
      },
      "source": [
        "<a href=\"https://colab.research.google.com/github/entelecheia/413A/blob/main/notebooks/06/03_logistic_regression_macro_data.ipynb\" target=\"_parent\"><img src=\"https://colab.research.google.com/assets/colab-badge.svg\" alt=\"Open In Colab\"/></a>"
      ]
    },
    {
      "cell_type": "markdown",
      "metadata": {
        "id": "xIneywDcxVe2"
      },
      "source": [
        "# Logistic Regression with Macro Data"
      ]
    },
    {
      "cell_type": "code",
      "source": [
        "%%capture\n",
        "%pip install statsmodels -U\n",
        "%pip install ipython-autotime\n",
        "%load_ext autotime"
      ],
      "metadata": {
        "id": "Fzv7myhCxZa6"
      },
      "execution_count": null,
      "outputs": []
    },
    {
      "cell_type": "code",
      "execution_count": null,
      "metadata": {
        "ExecuteTime": {
          "end_time": "2021-04-15T20:16:58.425182Z",
          "start_time": "2021-04-15T20:16:57.853104Z"
        },
        "id": "ZDVR3dU7xVe2"
      },
      "outputs": [],
      "source": [
        "%matplotlib inline\n",
        "import pandas as pd\n",
        "import statsmodels.api as sm\n",
        "import matplotlib.pyplot as plt\n",
        "import seaborn as sns"
      ]
    },
    {
      "cell_type": "code",
      "execution_count": null,
      "metadata": {
        "ExecuteTime": {
          "end_time": "2021-04-15T20:16:58.427872Z",
          "start_time": "2021-04-15T20:16:58.426052Z"
        },
        "id": "tM9Kx8lFxVe3"
      },
      "outputs": [],
      "source": [
        "sns.set_style('whitegrid')"
      ]
    },
    {
      "cell_type": "markdown",
      "metadata": {
        "id": "HKzRAEh6xVe4"
      },
      "source": [
        "## Data Set"
      ]
    },
    {
      "cell_type": "markdown",
      "metadata": {
        "id": "0IW8FRd-xVe4"
      },
      "source": [
        "| Variable   | Description                                  | Transformation     |\n",
        "|------------|----------------------------------------------|--------------------|\n",
        "| realgdp    | Real gross domestic product                  | Annual Growth Rate |\n",
        "| realcons   | Real personal consumption expenditures       | Annual Growth Rate |\n",
        "| realinv    | Real gross private domestic investment       | Annual Growth Rate |\n",
        "| realgovt   | Real federal expenditures & gross investment | Annual Growth Rate |\n",
        "| realdpi    | Real private disposable income               | Annual Growth Rate |\n",
        "| m1         | M1 nominal money stock                       | Annual Growth Rate |\n",
        "| tbilrate   | Monthly treasury bill rate                 | Level              |\n",
        "| unemp      | Seasonally adjusted unemployment rate (%)    | Level              |\n",
        "| infl       | Inflation rate                               | Level              |\n",
        "| realint    |  Real interest rate                          | Level              |"
      ]
    },
    {
      "cell_type": "code",
      "execution_count": null,
      "metadata": {
        "ExecuteTime": {
          "end_time": "2021-04-15T20:16:58.463263Z",
          "start_time": "2021-04-15T20:16:58.428948Z"
        },
        "id": "CW5aUIRVxVe4"
      },
      "outputs": [],
      "source": [
        "data = pd.DataFrame(sm.datasets.macrodata.load().data)\n",
        "data.info()"
      ]
    },
    {
      "cell_type": "code",
      "execution_count": null,
      "metadata": {
        "ExecuteTime": {
          "end_time": "2021-04-15T20:16:58.478816Z",
          "start_time": "2021-04-15T20:16:58.464132Z"
        },
        "id": "kENFAC_rxVe5"
      },
      "outputs": [],
      "source": [
        "data.head()"
      ]
    },
    {
      "cell_type": "markdown",
      "metadata": {
        "id": "TvA04a76xVe6"
      },
      "source": [
        "## Data Prep"
      ]
    },
    {
      "cell_type": "markdown",
      "metadata": {
        "id": "qkC0JBtOxVe6"
      },
      "source": [
        "To obtain a binary target variable, we compute the 20-quarter rolling average of the annual growth rate of quarterly real GDP. We then assign 1 if current growth exceeds the moving average and 0 otherwise. Finally, we shift the indicator variables to align next quarter's outcome with the current quarter."
      ]
    },
    {
      "cell_type": "code",
      "execution_count": null,
      "metadata": {
        "ExecuteTime": {
          "end_time": "2021-04-15T20:16:58.486407Z",
          "start_time": "2021-04-15T20:16:58.479801Z"
        },
        "id": "1TMtkeNrxVe6"
      },
      "outputs": [],
      "source": [
        "data['growth_rate'] = data.realgdp.pct_change(4)\n",
        "data['target'] = (data.growth_rate > data.growth_rate.rolling(20).mean()).astype(int).shift(-1)\n",
        "data.quarter = data.quarter.astype(int)"
      ]
    },
    {
      "cell_type": "code",
      "execution_count": null,
      "metadata": {
        "ExecuteTime": {
          "end_time": "2021-04-15T20:16:58.492446Z",
          "start_time": "2021-04-15T20:16:58.487361Z"
        },
        "id": "IFa3N99fxVe7"
      },
      "outputs": [],
      "source": [
        "data.target.value_counts()"
      ]
    },
    {
      "cell_type": "code",
      "execution_count": null,
      "metadata": {
        "ExecuteTime": {
          "end_time": "2021-04-15T20:16:58.514839Z",
          "start_time": "2021-04-15T20:16:58.493636Z"
        },
        "id": "xZ9vIk9MxVe7"
      },
      "outputs": [],
      "source": [
        "data.tail()"
      ]
    },
    {
      "cell_type": "code",
      "execution_count": null,
      "metadata": {
        "ExecuteTime": {
          "end_time": "2021-04-15T20:16:58.526092Z",
          "start_time": "2021-04-15T20:16:58.517190Z"
        },
        "id": "F-1N0AYRxVe7"
      },
      "outputs": [],
      "source": [
        "pct_cols = ['realcons', 'realinv', 'realgovt', 'realdpi', 'm1']\n",
        "drop_cols = ['year', 'realgdp', 'pop', 'cpi', 'growth_rate']\n",
        "data.loc[:, pct_cols] = data.loc[:, pct_cols].pct_change(4)"
      ]
    },
    {
      "cell_type": "code",
      "execution_count": null,
      "metadata": {
        "ExecuteTime": {
          "end_time": "2021-04-15T20:16:58.539431Z",
          "start_time": "2021-04-15T20:16:58.527637Z"
        },
        "id": "HWG-8ghixVe7"
      },
      "outputs": [],
      "source": [
        "data = pd.get_dummies(data.drop(drop_cols, axis=1), columns=['quarter'], drop_first=True).dropna()"
      ]
    },
    {
      "cell_type": "code",
      "execution_count": null,
      "metadata": {
        "ExecuteTime": {
          "end_time": "2021-04-15T20:16:58.555664Z",
          "start_time": "2021-04-15T20:16:58.540770Z"
        },
        "id": "QBMeCsJJxVe7"
      },
      "outputs": [],
      "source": [
        "data.head()"
      ]
    },
    {
      "cell_type": "code",
      "execution_count": null,
      "metadata": {
        "ExecuteTime": {
          "end_time": "2021-04-15T20:16:58.569781Z",
          "start_time": "2021-04-15T20:16:58.556761Z"
        },
        "id": "i7PWJfYKxVe7"
      },
      "outputs": [],
      "source": [
        "data.info()"
      ]
    },
    {
      "cell_type": "markdown",
      "metadata": {
        "id": "7rfC0e_7xVe8"
      },
      "source": [
        "We use an intercept and convert the quarter values to dummy variables and train the logistic regression model as follows:"
      ]
    },
    {
      "cell_type": "markdown",
      "metadata": {
        "id": "xYtenAroxVe8"
      },
      "source": [
        "This produces the following summary for our model with 198 observations and 13 variables, including intercept:\n",
        "The summary indicates that the model has been trained using maximum likelihood and provides the maximized value of the log-likelihood function at -67.9."
      ]
    },
    {
      "cell_type": "code",
      "execution_count": null,
      "metadata": {
        "ExecuteTime": {
          "end_time": "2021-04-15T20:16:58.627534Z",
          "start_time": "2021-04-15T20:16:58.570782Z"
        },
        "id": "m5EkTEJ2xVe8"
      },
      "outputs": [],
      "source": [
        "model = sm.Logit(data.target, sm.add_constant(data.drop('target', axis=1)))\n",
        "result = model.fit()\n",
        "result.summary()"
      ]
    },
    {
      "cell_type": "markdown",
      "metadata": {
        "id": "2qw7BM2lxVe9"
      },
      "source": [
        "The LL-Null value of -136.42 is the result of the maximized log-likelihood function when only an intercept is included. It forms the basis for the pseudo-R2 statistic and the Log-Likelihood Ratio (LLR) test. \n",
        "The pseudo-R2 statistic is a substitute for the familiar R2 available under least squares. It is computed based on the ratio of the maximized log-likelihood function for the null model m0 and the full model m1 as follows:\n",
        "The values vary from 0 (when the model does not improve the likelihood) to 1 where the model fits perfectly and the log-likelihood is maximized at 0. Consequently, higher values indicate a better fit.\n"
      ]
    },
    {
      "cell_type": "code",
      "execution_count": null,
      "metadata": {
        "ExecuteTime": {
          "end_time": "2021-04-15T20:16:59.152819Z",
          "start_time": "2021-04-15T20:16:58.628760Z"
        },
        "id": "dTUYARrhxVe9"
      },
      "outputs": [],
      "source": [
        "plt.rc('figure', figsize=(12, 7))\n",
        "plt.text(0.01, 0.05, str(result.summary()), {'fontsize': 14}, fontproperties = 'monospace')\n",
        "plt.axis('off')\n",
        "plt.tight_layout()\n",
        "plt.subplots_adjust(left=0.2, right=0.8, top=0.8, bottom=0.1)\n",
        "# plt.savefig('logistic_example.png', bbox_inches='tight', dpi=300);"
      ]
    },
    {
      "cell_type": "code",
      "execution_count": null,
      "metadata": {
        "id": "Qx2ghwKyxVe9"
      },
      "outputs": [],
      "source": [
        "name = input(\"What is your name? \")\n",
        "sid = input(\"What is your student ID? \")\n",
        "print(\"Name: \" + name + \"\\nStudent ID: \" + sid)"
      ]
    }
  ],
  "metadata": {
    "kernelspec": {
      "display_name": "Python 3",
      "language": "python",
      "name": "python3"
    },
    "language_info": {
      "codemirror_mode": {
        "name": "ipython",
        "version": 3
      },
      "file_extension": ".py",
      "mimetype": "text/x-python",
      "name": "python",
      "nbconvert_exporter": "python",
      "pygments_lexer": "ipython3",
      "version": "3.9.2"
    },
    "toc": {
      "base_numbering": 1,
      "nav_menu": {},
      "number_sections": true,
      "sideBar": true,
      "skip_h1_title": true,
      "title_cell": "Table of Contents",
      "title_sidebar": "Contents",
      "toc_cell": false,
      "toc_position": {},
      "toc_section_display": true,
      "toc_window_display": true
    },
    "colab": {
      "name": "03_logistic_regression_macro_data.ipynb",
      "provenance": []
    }
  },
  "nbformat": 4,
  "nbformat_minor": 0
}