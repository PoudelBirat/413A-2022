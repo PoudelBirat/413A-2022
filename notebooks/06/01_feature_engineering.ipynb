{
  "cells": [
    {
      "cell_type": "markdown",
      "metadata": {
        "id": "h0WcA_zhubnN"
      },
      "source": [
        "<a href=\"https://colab.research.google.com/github/chu-ise/413A-2022/blob/main/notebooks/06/01_feature_engineering.ipynb\" target=\"_parent\"><img src=\"https://colab.research.google.com/assets/colab-badge.svg\" alt=\"Open In Colab\"/></a>"
      ]
    },
    {
      "cell_type": "markdown",
      "metadata": {
        "id": "zq9l6-doubnP"
      },
      "source": [
        "# How to transform data into factors"
      ]
    },
    {
      "cell_type": "markdown",
      "metadata": {
        "id": "As6w_PR0ubnP"
      },
      "source": [
        "Based on a conceptual understanding of key factor categories, their rationale and popular metrics, a key task is to identify new factors that may better capture the risks embodied by the return drivers laid out previously, or to find new ones. \n",
        "\n",
        "In either case, it will be important to compare the performance of innovative factors to that of known factors to identify incremental signal gains."
      ]
    },
    {
      "cell_type": "markdown",
      "metadata": {
        "id": "9GXnMksXubnQ"
      },
      "source": [
        "## Imports & Settings"
      ]
    },
    {
      "cell_type": "code",
      "execution_count": null,
      "metadata": {
        "id": "UjGodvDduifr"
      },
      "outputs": [],
      "source": [
        "%%capture\n",
        "%pip install statsmodels -U\n",
        "%pip install ipython-autotime\n",
        "%load_ext autotime"
      ]
    },
    {
      "cell_type": "code",
      "execution_count": null,
      "metadata": {
        "ExecuteTime": {
          "end_time": "2021-04-15T19:41:03.495850Z",
          "start_time": "2021-04-15T19:41:03.491885Z"
        },
        "id": "YWRF7lAgubnQ"
      },
      "outputs": [],
      "source": [
        "import warnings\n",
        "warnings.filterwarnings('ignore')"
      ]
    },
    {
      "cell_type": "code",
      "execution_count": null,
      "metadata": {
        "ExecuteTime": {
          "end_time": "2021-04-15T19:41:04.376337Z",
          "start_time": "2021-04-15T19:41:03.779408Z"
        },
        "id": "aXCgPhnTubnR"
      },
      "outputs": [],
      "source": [
        "%matplotlib inline\n",
        "\n",
        "from datetime import datetime\n",
        "import pandas as pd\n",
        "import pandas_datareader.data as web\n",
        "\n",
        "from statsmodels.regression.rolling import RollingOLS\n",
        "import statsmodels.api as sm\n",
        "\n",
        "import matplotlib.pyplot as plt\n",
        "import seaborn as sns"
      ]
    },
    {
      "cell_type": "code",
      "execution_count": null,
      "metadata": {
        "ExecuteTime": {
          "end_time": "2021-04-15T19:41:04.513447Z",
          "start_time": "2021-04-15T19:41:04.510049Z"
        },
        "id": "94AyPs7aubnS"
      },
      "outputs": [],
      "source": [
        "sns.set_style('whitegrid')\n",
        "idx = pd.IndexSlice"
      ]
    },
    {
      "cell_type": "markdown",
      "metadata": {
        "id": "gFjRZF2AubnT"
      },
      "source": [
        "## Get Data"
      ]
    },
    {
      "cell_type": "code",
      "execution_count": null,
      "metadata": {
        "id": "EjHyDKjCueT7"
      },
      "outputs": [],
      "source": [
        "import gdown\n",
        "id = '15Is7nz7z57iDDftlzA0TV2XspNUq25lR'\n",
        "output = './data.zip'\n",
        "gdown.cached_download(id=id, path=output, postprocess=gdown.extractall)"
      ]
    },
    {
      "cell_type": "code",
      "execution_count": null,
      "metadata": {
        "ExecuteTime": {
          "end_time": "2021-04-15T19:42:22.923496Z",
          "start_time": "2021-04-15T19:42:15.909916Z"
        },
        "id": "drDKQIttubnT"
      },
      "outputs": [],
      "source": [
        "prices = pd.read_parquet('data/prices.parquet')\n",
        "stocks = pd.read_parquet('data/stocks.parquet')"
      ]
    },
    {
      "cell_type": "code",
      "execution_count": null,
      "metadata": {
        "ExecuteTime": {
          "end_time": "2021-04-15T19:42:23.001008Z",
          "start_time": "2021-04-15T19:42:22.924508Z"
        },
        "id": "7A_KeIY2ubnU"
      },
      "outputs": [],
      "source": [
        "prices.info()"
      ]
    },
    {
      "cell_type": "code",
      "execution_count": null,
      "metadata": {
        "ExecuteTime": {
          "end_time": "2021-04-15T19:42:23.008893Z",
          "start_time": "2021-04-15T19:42:23.002047Z"
        },
        "id": "6rKMEA2yubnV"
      },
      "outputs": [],
      "source": [
        "stocks.info()"
      ]
    },
    {
      "cell_type": "markdown",
      "metadata": {
        "id": "rPUTSNn5ubnV"
      },
      "source": [
        "### Keep data with stock info"
      ]
    },
    {
      "cell_type": "markdown",
      "metadata": {
        "id": "ohg2tLjJubnV"
      },
      "source": [
        "Remove `stocks` duplicates and align index names for later joining."
      ]
    },
    {
      "cell_type": "code",
      "execution_count": null,
      "metadata": {
        "ExecuteTime": {
          "end_time": "2021-04-15T19:42:23.018069Z",
          "start_time": "2021-04-15T19:42:23.009732Z"
        },
        "id": "A5D80najubnV"
      },
      "outputs": [],
      "source": [
        "stocks = stocks[~stocks.index.duplicated()]\n",
        "stocks.index.name = 'ticker'"
      ]
    },
    {
      "cell_type": "markdown",
      "metadata": {
        "id": "nZMs65i4ubnW"
      },
      "source": [
        "Get tickers with both price information and metdata"
      ]
    },
    {
      "cell_type": "code",
      "execution_count": null,
      "metadata": {
        "ExecuteTime": {
          "end_time": "2021-04-15T19:42:23.027293Z",
          "start_time": "2021-04-15T19:42:23.018895Z"
        },
        "id": "CByWbIFgubnW"
      },
      "outputs": [],
      "source": [
        "shared = prices.columns.intersection(stocks.index)"
      ]
    },
    {
      "cell_type": "code",
      "execution_count": null,
      "metadata": {
        "ExecuteTime": {
          "end_time": "2021-04-15T19:42:23.043241Z",
          "start_time": "2021-04-15T19:42:23.028490Z"
        },
        "id": "XljKLJ1pubnW"
      },
      "outputs": [],
      "source": [
        "stocks = stocks.loc[shared, :]\n",
        "stocks.info()"
      ]
    },
    {
      "cell_type": "code",
      "execution_count": null,
      "metadata": {
        "ExecuteTime": {
          "end_time": "2021-04-15T19:42:23.137083Z",
          "start_time": "2021-04-15T19:42:23.044635Z"
        },
        "id": "fPnFx37GubnW",
        "scrolled": true
      },
      "outputs": [],
      "source": [
        "prices = prices.loc[:, shared]\n",
        "prices.info()"
      ]
    },
    {
      "cell_type": "code",
      "execution_count": null,
      "metadata": {
        "ExecuteTime": {
          "end_time": "2021-04-15T19:42:23.140088Z",
          "start_time": "2021-04-15T19:42:23.138243Z"
        },
        "id": "DPUbInm_ubnX"
      },
      "outputs": [],
      "source": [
        "assert prices.shape[1] == stocks.shape[0]"
      ]
    },
    {
      "cell_type": "markdown",
      "metadata": {
        "id": "XODLBfeUubnX"
      },
      "source": [
        "## Create monthly return series"
      ]
    },
    {
      "cell_type": "markdown",
      "metadata": {
        "id": "CtYE2GRPubnX"
      },
      "source": [
        "To reduce training time and experiment with strategies for longer time horizons, we convert the business-daily data to month-end frequency using the available adjusted close price:"
      ]
    },
    {
      "cell_type": "code",
      "execution_count": null,
      "metadata": {
        "ExecuteTime": {
          "end_time": "2021-04-15T19:42:23.170928Z",
          "start_time": "2021-04-15T19:42:23.141153Z"
        },
        "id": "2Zk74hDzubnX"
      },
      "outputs": [],
      "source": [
        "monthly_prices = prices.resample('M').last()"
      ]
    },
    {
      "cell_type": "markdown",
      "metadata": {
        "id": "iXj9UIToubnX"
      },
      "source": [
        "To capture time series dynamics that reflect, for example, momentum patterns, we compute historical returns using the method `.pct_change(n_periods)`, that is, returns over various monthly periods as identified by lags.\n",
        "\n",
        "We then convert the wide result back to long format with the `.stack()` method, use `.pipe()` to apply the `.clip()` method to the resulting `DataFrame`, and winsorize returns at the [1%, 99%] levels; that is, we cap outliers at these percentiles.\n",
        "\n",
        "Finally, we normalize returns using the geometric average. After using `.swaplevel()` to change the order of the `MultiIndex` levels, we obtain compounded monthly returns for six periods ranging from 1 to 12 months:"
      ]
    },
    {
      "cell_type": "code",
      "execution_count": null,
      "metadata": {
        "ExecuteTime": {
          "end_time": "2021-04-15T19:42:23.275075Z",
          "start_time": "2021-04-15T19:42:23.171959Z"
        },
        "id": "WHpkuyjjubnX"
      },
      "outputs": [],
      "source": [
        "monthly_prices.info()"
      ]
    },
    {
      "cell_type": "code",
      "execution_count": null,
      "metadata": {
        "ExecuteTime": {
          "end_time": "2021-04-15T19:42:27.496502Z",
          "start_time": "2021-04-15T19:42:23.276017Z"
        },
        "id": "Zhlbq3qxubnX"
      },
      "outputs": [],
      "source": [
        "outlier_cutoff = 0.01\n",
        "data = pd.DataFrame()\n",
        "lags = [1, 2, 3, 6, 9, 12]\n",
        "for lag in lags:\n",
        "    data[f'return_{lag}m'] = (monthly_prices\n",
        "                           .pct_change(lag)\n",
        "                           .stack()\n",
        "                           .pipe(lambda x: x.clip(lower=x.quantile(outlier_cutoff),\n",
        "                                                  upper=x.quantile(1-outlier_cutoff)))\n",
        "                           .add(1)\n",
        "                           .pow(1/lag)\n",
        "                           .sub(1)\n",
        "                           )\n",
        "data = data.swaplevel().dropna()\n",
        "data.info()"
      ]
    },
    {
      "cell_type": "markdown",
      "metadata": {
        "id": "yFljzWdMubnY"
      },
      "source": [
        "## Drop stocks with less than 10 yrs of returns"
      ]
    },
    {
      "cell_type": "code",
      "execution_count": null,
      "metadata": {
        "ExecuteTime": {
          "end_time": "2021-04-15T19:42:32.693861Z",
          "start_time": "2021-04-15T19:42:27.497409Z"
        },
        "id": "AUpfPk_HubnY"
      },
      "outputs": [],
      "source": [
        "min_obs = 120\n",
        "nobs = data.groupby(level='ticker').size()\n",
        "keep = nobs[nobs>min_obs].index\n",
        "\n",
        "data = data.loc[idx[keep,:], :]\n",
        "data.info()"
      ]
    },
    {
      "cell_type": "code",
      "execution_count": null,
      "metadata": {
        "id": "UOia2zF6ubnY"
      },
      "outputs": [],
      "source": [
        "data.tail()"
      ]
    },
    {
      "cell_type": "code",
      "execution_count": null,
      "metadata": {
        "ExecuteTime": {
          "end_time": "2021-04-15T19:42:32.759315Z",
          "start_time": "2021-04-15T19:42:32.695113Z"
        },
        "id": "MkFs8VQwubnY"
      },
      "outputs": [],
      "source": [
        "data.describe()"
      ]
    },
    {
      "cell_type": "code",
      "execution_count": null,
      "metadata": {
        "ExecuteTime": {
          "end_time": "2021-04-15T19:42:33.428516Z",
          "start_time": "2021-04-15T19:42:32.760414Z"
        },
        "id": "EoSyIgFKubnY"
      },
      "outputs": [],
      "source": [
        "# cmap = sns.diverging_palette(10, 220, as_cmap=True)\n",
        "sns.clustermap(data.corr('spearman'), annot=True, center=0, cmap='Blues');"
      ]
    },
    {
      "cell_type": "markdown",
      "metadata": {
        "id": "gkFjAlkdubnY"
      },
      "source": [
        "We are left with 1,838 tickers."
      ]
    },
    {
      "cell_type": "code",
      "execution_count": null,
      "metadata": {
        "ExecuteTime": {
          "end_time": "2021-04-15T19:42:33.464342Z",
          "start_time": "2021-04-15T19:42:33.429978Z"
        },
        "id": "Yjx1TUG4ubnY"
      },
      "outputs": [],
      "source": [
        "data.index.get_level_values('ticker').nunique()"
      ]
    },
    {
      "cell_type": "markdown",
      "metadata": {
        "id": "852lP4iiubnY"
      },
      "source": [
        "## Rolling Factor Betas"
      ]
    },
    {
      "cell_type": "markdown",
      "metadata": {
        "id": "q57Kbn69ubnY"
      },
      "source": [
        "The five Fama—French factors, namely market risk, size, value, operating profitability, and investment have been shown empirically to explain asset returns and are commonly used to assess the risk/return profile of portfolios. Hence, it is natural to include past factor exposures as financial features in models that aim to predict future returns."
      ]
    },
    {
      "cell_type": "markdown",
      "metadata": {
        "id": "U5awj10rubnY"
      },
      "source": [
        "We can access the historical factor returns using the `pandas-datareader` and estimate historical exposures using the `RollingOLS` rolling linear regression functionality in the `statsmodels` library as follows:"
      ]
    },
    {
      "cell_type": "markdown",
      "metadata": {
        "id": "WH1lN8A4ubnY"
      },
      "source": [
        "Use Fama-French research factors to estimate the factor exposures of the stock in the dataset to the 5 factors market risk, size, value, operating profitability and investment."
      ]
    },
    {
      "cell_type": "code",
      "execution_count": null,
      "metadata": {
        "ExecuteTime": {
          "end_time": "2021-04-15T19:42:33.769036Z",
          "start_time": "2021-04-15T19:42:33.465722Z"
        },
        "id": "MMOeEQQJubnZ",
        "scrolled": false
      },
      "outputs": [],
      "source": [
        "factors = ['Mkt-RF', 'SMB', 'HML', 'RMW', 'CMA']\n",
        "factor_data = web.DataReader('F-F_Research_Data_5_Factors_2x3', 'famafrench', start='2000')[0].drop('RF', axis=1)\n",
        "factor_data.index = factor_data.index.to_timestamp()\n",
        "factor_data = factor_data.resample('M').last().div(100)\n",
        "factor_data.index.name = 'date'\n",
        "factor_data.info()"
      ]
    },
    {
      "cell_type": "code",
      "execution_count": null,
      "metadata": {
        "ExecuteTime": {
          "end_time": "2021-04-15T19:42:33.816362Z",
          "start_time": "2021-04-15T19:42:33.769871Z"
        },
        "id": "Irf2TXSpubnZ",
        "scrolled": true
      },
      "outputs": [],
      "source": [
        "factor_data = factor_data.join(data['return_1m']).sort_index()\n",
        "factor_data.info()"
      ]
    },
    {
      "cell_type": "code",
      "execution_count": null,
      "metadata": {
        "ExecuteTime": {
          "end_time": "2021-04-15T19:42:45.008104Z",
          "start_time": "2021-04-15T19:42:33.817495Z"
        },
        "id": "zbEZ-dh4ubnZ"
      },
      "outputs": [],
      "source": [
        "T = 24\n",
        "betas = (factor_data.groupby(level='ticker',\n",
        "                             group_keys=False)\n",
        "         .apply(lambda x: RollingOLS(endog=x.return_1m,\n",
        "                                     exog=sm.add_constant(x.drop('return_1m', axis=1)),\n",
        "                                     window=min(T, x.shape[0]-1))\n",
        "                .fit(params_only=True)\n",
        "                .params\n",
        "                .drop('const', axis=1)))"
      ]
    },
    {
      "cell_type": "code",
      "execution_count": null,
      "metadata": {
        "id": "c7qNxGIcubnZ"
      },
      "outputs": [],
      "source": [
        "betas.tail()"
      ]
    },
    {
      "cell_type": "code",
      "execution_count": null,
      "metadata": {
        "ExecuteTime": {
          "end_time": "2021-04-15T19:42:45.092905Z",
          "start_time": "2021-04-15T19:42:45.009169Z"
        },
        "id": "CafbbCisubnZ"
      },
      "outputs": [],
      "source": [
        "betas.describe().join(betas.sum(1).describe().to_frame('total'))"
      ]
    },
    {
      "cell_type": "code",
      "execution_count": null,
      "metadata": {
        "ExecuteTime": {
          "end_time": "2021-04-15T19:42:45.366245Z",
          "start_time": "2021-04-15T19:42:45.093829Z"
        },
        "id": "Qo6yoWrbubnZ"
      },
      "outputs": [],
      "source": [
        "cmap = sns.diverging_palette(10, 220, as_cmap=True)\n",
        "sns.clustermap(betas.corr(), annot=True, cmap=cmap, center=0);"
      ]
    },
    {
      "cell_type": "code",
      "execution_count": null,
      "metadata": {
        "ExecuteTime": {
          "end_time": "2021-04-15T19:42:45.456467Z",
          "start_time": "2021-04-15T19:42:45.367374Z"
        },
        "id": "V7W5FgDHubnZ",
        "scrolled": true
      },
      "outputs": [],
      "source": [
        "data = (data\n",
        "        .join(betas\n",
        "              .groupby(level='ticker')\n",
        "              .shift()))\n",
        "data.info()"
      ]
    },
    {
      "cell_type": "code",
      "execution_count": null,
      "metadata": {
        "id": "ii4sRigXubnZ"
      },
      "outputs": [],
      "source": [
        "data.head()"
      ]
    },
    {
      "cell_type": "markdown",
      "metadata": {
        "id": "Qi3Y6UL3ubnZ"
      },
      "source": [
        "### Impute mean for missing factor betas"
      ]
    },
    {
      "cell_type": "code",
      "execution_count": null,
      "metadata": {
        "ExecuteTime": {
          "end_time": "2021-04-15T19:42:47.627665Z",
          "start_time": "2021-04-15T19:42:45.458880Z"
        },
        "id": "iHsJPh82ubnZ"
      },
      "outputs": [],
      "source": [
        "data.loc[:, factors] = data.groupby('ticker')[factors].apply(lambda x: x.fillna(x.mean()))\n",
        "data.info()"
      ]
    },
    {
      "cell_type": "code",
      "execution_count": null,
      "metadata": {
        "id": "8IJjCcqQubnZ"
      },
      "outputs": [],
      "source": [
        "data.head()"
      ]
    },
    {
      "cell_type": "markdown",
      "metadata": {
        "id": "pAsqBcf3ubna"
      },
      "source": [
        "## Momentum factors"
      ]
    },
    {
      "cell_type": "markdown",
      "metadata": {
        "id": "zg2xMCIeubna"
      },
      "source": [
        "We can use these results to compute momentum factors based on the difference between returns over longer periods and the most recent monthly return, as well as for the difference between 3 and 12 month returns as follows:"
      ]
    },
    {
      "cell_type": "code",
      "execution_count": null,
      "metadata": {
        "ExecuteTime": {
          "end_time": "2021-04-15T19:42:47.637631Z",
          "start_time": "2021-04-15T19:42:47.628920Z"
        },
        "id": "cC_Bl1Udubna"
      },
      "outputs": [],
      "source": [
        "for lag in [2,3,6,9,12]:\n",
        "    data[f'momentum_{lag}'] = data[f'return_{lag}m'].sub(data.return_1m)\n",
        "data[f'momentum_3_12'] = data[f'return_12m'].sub(data.return_3m)"
      ]
    },
    {
      "cell_type": "markdown",
      "metadata": {
        "id": "HGZQrq6gubna"
      },
      "source": [
        "## Date Indicators"
      ]
    },
    {
      "cell_type": "code",
      "execution_count": null,
      "metadata": {
        "ExecuteTime": {
          "end_time": "2021-04-15T19:42:47.684155Z",
          "start_time": "2021-04-15T19:42:47.638459Z"
        },
        "id": "Od30OU7Pubna"
      },
      "outputs": [],
      "source": [
        "dates = data.index.get_level_values('date')\n",
        "data['year'] = dates.year\n",
        "data['month'] = dates.month"
      ]
    },
    {
      "cell_type": "markdown",
      "metadata": {
        "id": "TMtaPtKHubna"
      },
      "source": [
        "## Lagged returns"
      ]
    },
    {
      "cell_type": "markdown",
      "metadata": {
        "id": "3NtEi7lQubna"
      },
      "source": [
        "To use lagged values as input variables or features associated with the current observations, we use the .shift() method to move historical returns up to the current period:"
      ]
    },
    {
      "cell_type": "code",
      "execution_count": null,
      "metadata": {
        "ExecuteTime": {
          "end_time": "2021-04-15T19:42:47.833744Z",
          "start_time": "2021-04-15T19:42:47.685024Z"
        },
        "id": "6N-Vn_lxubna"
      },
      "outputs": [],
      "source": [
        "for t in range(1, 7):\n",
        "    data[f'return_1m_t-{t}'] = data.groupby(level='ticker').return_1m.shift(t)\n",
        "data.info()"
      ]
    },
    {
      "cell_type": "code",
      "execution_count": null,
      "metadata": {
        "id": "wMaagk9Hubna"
      },
      "outputs": [],
      "source": [
        "data.tail()"
      ]
    },
    {
      "cell_type": "markdown",
      "metadata": {
        "id": "Y4j9NIczubna"
      },
      "source": [
        "## Target: Holding Period Returns"
      ]
    },
    {
      "cell_type": "markdown",
      "metadata": {
        "id": "lymxmH_aubnb"
      },
      "source": [
        "Similarly, to compute returns for various holding periods, we use the normalized period returns computed previously and shift them back to align them with the current financial features"
      ]
    },
    {
      "cell_type": "code",
      "execution_count": null,
      "metadata": {
        "ExecuteTime": {
          "end_time": "2021-04-15T19:42:47.945813Z",
          "start_time": "2021-04-15T19:42:47.834603Z"
        },
        "id": "VJ6GHWciubnb"
      },
      "outputs": [],
      "source": [
        "for t in [1,2,3,6,12]:\n",
        "    data[f'target_{t}m'] = data.groupby(level='ticker')[f'return_{t}m'].shift(-t)"
      ]
    },
    {
      "cell_type": "code",
      "execution_count": null,
      "metadata": {
        "id": "kpSWZ9yDubnb"
      },
      "outputs": [],
      "source": [
        "data.head(10)"
      ]
    },
    {
      "cell_type": "code",
      "execution_count": null,
      "metadata": {
        "ExecuteTime": {
          "end_time": "2021-04-15T19:42:48.020064Z",
          "start_time": "2021-04-15T19:42:47.946666Z"
        },
        "id": "mIgPWzgvubnb"
      },
      "outputs": [],
      "source": [
        "cols = ['target_1m',\n",
        "        'target_2m',\n",
        "        'target_3m', \n",
        "        'return_1m',\n",
        "        'return_2m',\n",
        "        'return_3m',\n",
        "        'return_1m_t-1',\n",
        "        'return_1m_t-2',\n",
        "        'return_1m_t-3']\n",
        "\n",
        "data[cols].dropna().sort_index().head(10)"
      ]
    },
    {
      "cell_type": "code",
      "execution_count": null,
      "metadata": {
        "ExecuteTime": {
          "end_time": "2021-04-15T19:42:48.040307Z",
          "start_time": "2021-04-15T19:42:48.020850Z"
        },
        "id": "QFWI3a_1ubnb"
      },
      "outputs": [],
      "source": [
        "data.info()"
      ]
    },
    {
      "cell_type": "markdown",
      "metadata": {
        "id": "GOKSYi7Dubnb"
      },
      "source": [
        "## Create age proxy"
      ]
    },
    {
      "cell_type": "markdown",
      "metadata": {
        "id": "6_dhbtUlubnb"
      },
      "source": [
        "We use quintiles of IPO year as a proxy for company age."
      ]
    },
    {
      "cell_type": "code",
      "execution_count": null,
      "metadata": {
        "ExecuteTime": {
          "end_time": "2021-04-15T19:42:48.061542Z",
          "start_time": "2021-04-15T19:42:48.041100Z"
        },
        "id": "Zy9SLATcubnb"
      },
      "outputs": [],
      "source": [
        "data = (data\n",
        "        .join(pd.qcut(stocks.ipoyear, q=5, labels=list(range(1, 6)))\n",
        "              .astype(float)\n",
        "              .fillna(0)\n",
        "              .astype(int)\n",
        "              .to_frame('age')))\n",
        "data.age = data.age.fillna(-1)"
      ]
    },
    {
      "cell_type": "markdown",
      "metadata": {
        "id": "jIjKKuEJubnb"
      },
      "source": [
        "## Create dynamic size proxy"
      ]
    },
    {
      "cell_type": "markdown",
      "metadata": {
        "id": "YZmKBAsHubnb"
      },
      "source": [
        "We use the marketcap information from the NASDAQ ticker info to create a size proxy."
      ]
    },
    {
      "cell_type": "code",
      "execution_count": null,
      "metadata": {
        "ExecuteTime": {
          "end_time": "2021-04-15T19:42:48.067917Z",
          "start_time": "2021-04-15T19:42:48.062397Z"
        },
        "id": "D2Oe-11Subnb"
      },
      "outputs": [],
      "source": [
        "stocks.info()"
      ]
    },
    {
      "cell_type": "markdown",
      "metadata": {
        "id": "H05236xtubnb"
      },
      "source": [
        "Market cap information is tied to currrent prices. We create an adjustment factor to have the values reflect lower historical prices for each individual stock:"
      ]
    },
    {
      "cell_type": "code",
      "execution_count": null,
      "metadata": {
        "ExecuteTime": {
          "end_time": "2021-04-15T19:42:48.144287Z",
          "start_time": "2021-04-15T19:42:48.068650Z"
        },
        "id": "kbMrsIS9ubnb"
      },
      "outputs": [],
      "source": [
        "size_factor = (monthly_prices\n",
        "               .loc[data.index.get_level_values('date').unique(),\n",
        "                    data.index.get_level_values('ticker').unique()]\n",
        "               .sort_index(ascending=False)\n",
        "               .pct_change()\n",
        "               .fillna(0)\n",
        "               .add(1)\n",
        "               .cumprod())\n",
        "size_factor.info()"
      ]
    },
    {
      "cell_type": "code",
      "execution_count": null,
      "metadata": {
        "ExecuteTime": {
          "end_time": "2021-04-15T19:42:48.153203Z",
          "start_time": "2021-04-15T19:42:48.145309Z"
        },
        "id": "d8hgBIxiubnb"
      },
      "outputs": [],
      "source": [
        "msize = (size_factor\n",
        "         .mul(stocks\n",
        "              .loc[size_factor.columns, 'marketcap'])).dropna(axis=1, how='all')"
      ]
    },
    {
      "cell_type": "markdown",
      "metadata": {
        "id": "myGQY7-uubnb"
      },
      "source": [
        "### Create Size indicator as deciles per period"
      ]
    },
    {
      "cell_type": "markdown",
      "metadata": {
        "id": "0dm46_oWubnb"
      },
      "source": [
        "Compute size deciles per month:"
      ]
    },
    {
      "cell_type": "code",
      "execution_count": null,
      "metadata": {
        "ExecuteTime": {
          "end_time": "2021-04-15T19:42:49.795031Z",
          "start_time": "2021-04-15T19:42:48.154005Z"
        },
        "id": "Tan1GXOSubnb"
      },
      "outputs": [],
      "source": [
        "data['msize'] = (msize\n",
        "                 .apply(lambda x: pd.qcut(x, q=10, labels=list(range(1, 11)))\n",
        "                        .astype(int), axis=1)\n",
        "                 .stack()\n",
        "                 .swaplevel())\n",
        "data.msize = data.msize.fillna(-1)"
      ]
    },
    {
      "cell_type": "markdown",
      "metadata": {
        "id": "QQ1OA3qMubnb"
      },
      "source": [
        "## Combine data"
      ]
    },
    {
      "cell_type": "code",
      "execution_count": null,
      "metadata": {
        "ExecuteTime": {
          "end_time": "2021-04-15T19:42:49.832155Z",
          "start_time": "2021-04-15T19:42:49.795874Z"
        },
        "id": "HPReoAf4ubnb"
      },
      "outputs": [],
      "source": [
        "data = data.join(stocks[['sector']])\n",
        "data.sector = data.sector.fillna('Unknown')"
      ]
    },
    {
      "cell_type": "code",
      "execution_count": null,
      "metadata": {
        "ExecuteTime": {
          "end_time": "2021-04-15T19:42:49.863430Z",
          "start_time": "2021-04-15T19:42:49.833060Z"
        },
        "id": "FOJHTljVubnb",
        "scrolled": false
      },
      "outputs": [],
      "source": [
        "data.info()"
      ]
    },
    {
      "cell_type": "markdown",
      "metadata": {
        "id": "UqupQXPXubnb"
      },
      "source": [
        "## Store data"
      ]
    },
    {
      "cell_type": "code",
      "execution_count": null,
      "metadata": {
        "id": "JtVP1HiEubnc"
      },
      "outputs": [],
      "source": [
        "data.to_parquet(\"./data/engineered_features.parquet\", compression='gzip')"
      ]
    },
    {
      "cell_type": "markdown",
      "metadata": {
        "id": "fkVIVvLUubnc"
      },
      "source": [
        "## Create Dummy variables"
      ]
    },
    {
      "cell_type": "markdown",
      "metadata": {
        "id": "q4IvWBXHubnc"
      },
      "source": [
        "For most models, we need to encode categorical variables as 'dummies' (one-hot encoding):"
      ]
    },
    {
      "cell_type": "code",
      "execution_count": null,
      "metadata": {
        "ExecuteTime": {
          "end_time": "2021-04-15T19:42:50.404583Z",
          "start_time": "2021-04-15T19:42:50.166383Z"
        },
        "id": "4ERmlNn-ubnc",
        "scrolled": false
      },
      "outputs": [],
      "source": [
        "dummy_data = pd.get_dummies(data,\n",
        "                            columns=['year','month', 'msize', 'age',  'sector'],\n",
        "                            prefix=['year','month', 'msize', 'age', ''],\n",
        "                            prefix_sep=['_', '_', '_', '_', ''])\n",
        "dummy_data = dummy_data.rename(columns={c:c.replace('.0', '') for c in dummy_data.columns})\n",
        "dummy_data.info()"
      ]
    },
    {
      "cell_type": "code",
      "execution_count": null,
      "metadata": {
        "id": "P3A707rMubnc"
      },
      "outputs": [],
      "source": [
        "dummy_data.tail()"
      ]
    },
    {
      "cell_type": "code",
      "execution_count": null,
      "metadata": {
        "id": "FiXQ_md_ubnc"
      },
      "outputs": [],
      "source": [
        "name = input(\"What is your name? \")\n",
        "sid = input(\"What is your student ID? \")\n",
        "print(\"Name: \" + name + \"\\nStudent ID: \" + sid)"
      ]
    }
  ],
  "metadata": {
    "colab": {
      "name": "01_feature_engineering.ipynb",
      "provenance": []
    },
    "kernelspec": {
      "display_name": "Python 3",
      "language": "python",
      "name": "python3"
    },
    "language_info": {
      "codemirror_mode": {
        "name": "ipython",
        "version": 3
      },
      "file_extension": ".py",
      "mimetype": "text/x-python",
      "name": "python",
      "nbconvert_exporter": "python",
      "pygments_lexer": "ipython3",
      "version": "3.9.2"
    },
    "toc": {
      "base_numbering": 1,
      "nav_menu": {},
      "number_sections": true,
      "sideBar": true,
      "skip_h1_title": true,
      "title_cell": "Table of Contents",
      "title_sidebar": "Contents",
      "toc_cell": false,
      "toc_position": {
        "height": "calc(100% - 180px)",
        "left": "10px",
        "top": "150px",
        "width": "230.355px"
      },
      "toc_section_display": true,
      "toc_window_display": true
    }
  },
  "nbformat": 4,
  "nbformat_minor": 0
}
