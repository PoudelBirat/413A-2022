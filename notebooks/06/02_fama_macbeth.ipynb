{
  "cells": [
    {
      "cell_type": "markdown",
      "metadata": {
        "id": "yrAbTPNlwgyV"
      },
      "source": [
        "<a href=\"https://colab.research.google.com/github/entelecheia/413A/blob/main/notebooks/06/02_fama_macbeth.ipynb\" target=\"_parent\"><img src=\"https://colab.research.google.com/assets/colab-badge.svg\" alt=\"Open In Colab\"/></a>"
      ]
    },
    {
      "cell_type": "markdown",
      "metadata": {
        "id": "1OhmRWPgwgyX"
      },
      "source": [
        "# How to build a linear factor model"
      ]
    },
    {
      "cell_type": "markdown",
      "metadata": {
        "id": "k0UNQljkwgyY"
      },
      "source": [
        "Algorithmic trading strategies use linear factor models to quantify the relationship between the return of an asset and the sources of risk that represent the main drivers of these returns. Each factor risk carries a premium, and the total asset return can be expected to correspond to a weighted average of these risk premia."
      ]
    },
    {
      "cell_type": "markdown",
      "metadata": {
        "id": "nZRIsj49wgyY"
      },
      "source": [
        "There are several practical applications of factor models across the portfolio management process from construction and asset selection to risk management and performance evaluation. The importance of factor models continues to grow as common risk factors are now tradeable:\n",
        "\n",
        "- A summary of the returns of many assets by a much smaller number of factors reduces the amount of data required to estimate the covariance matrix when optimizing a portfolio\n",
        "\n",
        "- An estimate of the exposure of an asset or a portfolio to these factors allows for the management of the resultant risk, for instance by entering suitable hedges when risk factors are themselves traded\n",
        "\n",
        "- A factor model also permits the assessment of the incremental signal content of new alpha factors\n",
        "\n",
        "- A factor model can also help assess whether a manager's performance relative to a benchmark is indeed due to skill in selecting assets and timing the market, or if instead, the performance can be explained by portfolio tilts towards known return drivers that can today be replicated as low-cost, passively managed funds without incurring active management fees"
      ]
    },
    {
      "cell_type": "markdown",
      "metadata": {
        "id": "3RGbruF8wgyZ"
      },
      "source": [
        "## Imports & Settings"
      ]
    },
    {
      "cell_type": "code",
      "source": [
        "%%capture\n",
        "%pip install linearmodels statsmodels -U\n",
        "%pip install ipython-autotime\n",
        "%load_ext autotime"
      ],
      "metadata": {
        "id": "gcqENAwbwkhe"
      },
      "execution_count": null,
      "outputs": []
    },
    {
      "cell_type": "code",
      "execution_count": null,
      "metadata": {
        "ExecuteTime": {
          "end_time": "2021-04-15T19:55:07.984117Z",
          "start_time": "2021-04-15T19:55:07.982285Z"
        },
        "id": "pk1NVNCHwgyZ"
      },
      "outputs": [],
      "source": [
        "import warnings\n",
        "warnings.filterwarnings('ignore')"
      ]
    },
    {
      "cell_type": "code",
      "execution_count": null,
      "metadata": {
        "ExecuteTime": {
          "end_time": "2021-04-15T19:55:09.073976Z",
          "start_time": "2021-04-15T19:55:08.102748Z"
        },
        "id": "isFmfR1Ywgya"
      },
      "outputs": [],
      "source": [
        "import pandas as pd\n",
        "import numpy as np\n",
        "\n",
        "from statsmodels.api import OLS, add_constant\n",
        "import pandas_datareader.data as web\n",
        "\n",
        "from linearmodels.asset_pricing import LinearFactorModel\n",
        "\n",
        "import matplotlib.pyplot as plt\n",
        "import seaborn as sns"
      ]
    },
    {
      "cell_type": "code",
      "execution_count": null,
      "metadata": {
        "ExecuteTime": {
          "end_time": "2021-04-15T19:55:09.077317Z",
          "start_time": "2021-04-15T19:55:09.075045Z"
        },
        "id": "N40-gUTBwgya"
      },
      "outputs": [],
      "source": [
        "sns.set_style('whitegrid')"
      ]
    },
    {
      "cell_type": "markdown",
      "metadata": {
        "id": "geLR-ahawgya"
      },
      "source": [
        "## Get Data"
      ]
    },
    {
      "cell_type": "code",
      "source": [
        "import gdown\n",
        "id = '15Is7nz7z57iDDftlzA0TV2XspNUq25lR'\n",
        "output = './data.zip'\n",
        "gdown.cached_download(id=id, path=output, postprocess=gdown.extractall)"
      ],
      "metadata": {
        "id": "g8nulRHEw5pB"
      },
      "execution_count": null,
      "outputs": []
    },
    {
      "cell_type": "markdown",
      "metadata": {
        "id": "z-1FZv2Fwgyb"
      },
      "source": [
        "Fama and French make updated risk factor and research portfolio data available through their [website](http://mba.tuck.dartmouth.edu/pages/faculty/ken.french/data_library.html), and you can use the `pandas_datareader` package to obtain the data."
      ]
    },
    {
      "cell_type": "markdown",
      "metadata": {
        "id": "7gebCusuwgyb"
      },
      "source": [
        "### Risk Factors"
      ]
    },
    {
      "cell_type": "markdown",
      "metadata": {
        "id": "Mo4FTLRlwgyb"
      },
      "source": [
        "In particular, we will be using the five Fama—French factors that result from sorting stocks first into three size groups and then into two for each of the remaining three firm-specific factors. \n",
        "\n",
        "Hence, the factors involve three sets of value-weighted portfolios formed as 3 x 2 sorts on size and book-to-market, size and operating profitability, and size and investment. The risk factor values computed as the average returns of the portfolios (PF) as outlined in the following table:"
      ]
    },
    {
      "cell_type": "markdown",
      "metadata": {
        "id": "d3z8uOp5wgyc"
      },
      "source": [
        "| Label | Name                          | Description                                                                                                                                                                               |\n",
        "|-------|-------------------------------|-------------------------------------------------------------------------------------------------------------------------------------------------------------------------------------------|\n",
        "| SMB   | Small Minus Big               | Average return on the nine small stock portfolios minus the average return on the nine big stock portfolios                                                                               |\n",
        "| HML   | High Minus Low                | Average return on the two value portfolios minus the average return on the two growth portfolios                                                                                          |\n",
        "| RMW   | Robust minus Weak             | Average return on the two robust operating profitability portfolios minus the average return on the two weak operating profitability portfolios                                           |\n",
        "| CMA   | Conservative Minus Aggressive | Average return on the two conservative investment portfolios minus the average return on the two aggressive investment portfolios                                                         |\n",
        "| Rm-Rf | Excess return on the market   | Value-weight return of all firms incorporated in the US and listed on the NYSE, AMEX, or NASDAQ at the beginning of month t with 'good' data for t minus the one-month Treasury bill rate |"
      ]
    },
    {
      "cell_type": "markdown",
      "metadata": {
        "id": "7wv8GR-Twgyc"
      },
      "source": [
        "The Fama-French 5 factors are based on the 6 value-weight portfolios formed on size and book-to-market, the 6 value-weight portfolios formed on size and operating profitability, and the 6 value-weight portfolios formed on size and investment."
      ]
    },
    {
      "cell_type": "markdown",
      "metadata": {
        "id": "tElqx_tzwgyc"
      },
      "source": [
        "We will use returns at a monthly frequency that we obtain for the period 2010 – 2017 as follows:"
      ]
    },
    {
      "cell_type": "code",
      "execution_count": null,
      "metadata": {
        "ExecuteTime": {
          "end_time": "2021-04-15T19:55:13.367412Z",
          "start_time": "2021-04-15T19:55:13.065455Z"
        },
        "id": "oIsBBa0Vwgyc"
      },
      "outputs": [],
      "source": [
        "ff_factor = 'F-F_Research_Data_5_Factors_2x3'\n",
        "ff_factor_data = web.DataReader(ff_factor, 'famafrench', start='2010', end='2017-12')[0]\n",
        "ff_factor_data.info()"
      ]
    },
    {
      "cell_type": "code",
      "execution_count": null,
      "metadata": {
        "ExecuteTime": {
          "end_time": "2021-04-15T19:55:13.386698Z",
          "start_time": "2021-04-15T19:55:13.368623Z"
        },
        "id": "Liroowtxwgyd"
      },
      "outputs": [],
      "source": [
        "ff_factor_data.describe()"
      ]
    },
    {
      "cell_type": "markdown",
      "metadata": {
        "id": "HsPVtsCCwgyd"
      },
      "source": [
        "### Portfolios"
      ]
    },
    {
      "cell_type": "markdown",
      "metadata": {
        "id": "2b1eymjvwgyd"
      },
      "source": [
        "Fama and French also make available numerous portfolios that we can illustrate the estimation of the factor exposures, as well as the value of the risk premia available in the market for a given time period. We will use a panel of the 17 industry portfolios at a monthly frequency. \n",
        "\n",
        "We will subtract the risk-free rate from the returns because the factor model works with excess returns:"
      ]
    },
    {
      "cell_type": "code",
      "execution_count": null,
      "metadata": {
        "ExecuteTime": {
          "end_time": "2021-04-15T19:55:14.483710Z",
          "start_time": "2021-04-15T19:55:13.388307Z"
        },
        "id": "9ZV1Ek95wgyd"
      },
      "outputs": [],
      "source": [
        "ff_portfolio = '17_Industry_Portfolios'\n",
        "ff_portfolio_data = web.DataReader(ff_portfolio, 'famafrench', start='2010', end='2017-12')[0]\n",
        "ff_portfolio_data = ff_portfolio_data.sub(ff_factor_data.RF, axis=0)\n",
        "ff_portfolio_data.info()"
      ]
    },
    {
      "cell_type": "code",
      "execution_count": null,
      "metadata": {
        "ExecuteTime": {
          "end_time": "2021-04-15T19:55:14.519355Z",
          "start_time": "2021-04-15T19:55:14.484749Z"
        },
        "id": "CObswhcswgyd"
      },
      "outputs": [],
      "source": [
        "ff_portfolio_data.describe()"
      ]
    },
    {
      "cell_type": "markdown",
      "metadata": {
        "id": "HVUWIAt7wgyd"
      },
      "source": [
        "### Equity Data"
      ]
    },
    {
      "cell_type": "code",
      "execution_count": null,
      "metadata": {
        "id": "BDGxu1Zawgyd"
      },
      "outputs": [],
      "source": [
        "prices = pd.read_parquet('data/prices.parquet')\n",
        "equities = pd.read_parquet('data/equities.parquet')"
      ]
    },
    {
      "cell_type": "code",
      "execution_count": null,
      "metadata": {
        "ExecuteTime": {
          "end_time": "2021-04-15T19:55:20.245270Z",
          "start_time": "2021-04-15T19:55:20.201602Z"
        },
        "id": "vISS0Dc1wgye"
      },
      "outputs": [],
      "source": [
        "sectors = equities.filter(prices.columns, axis=0).sector.to_dict()\n",
        "prices = prices.filter(sectors.keys()).dropna(how='all', axis=1)"
      ]
    },
    {
      "cell_type": "code",
      "execution_count": null,
      "metadata": {
        "ExecuteTime": {
          "end_time": "2021-04-15T19:55:20.330305Z",
          "start_time": "2021-04-15T19:55:20.246605Z"
        },
        "id": "Q6nm_0pQwgye"
      },
      "outputs": [],
      "source": [
        "returns = prices.resample('M').last().pct_change().mul(100).to_period('M')\n",
        "returns = returns.dropna(how='all').dropna(axis=1)\n",
        "returns.info()"
      ]
    },
    {
      "cell_type": "code",
      "execution_count": null,
      "metadata": {
        "id": "rZH1VnpJwgye"
      },
      "outputs": [],
      "source": [
        "returns.tail()"
      ]
    },
    {
      "cell_type": "code",
      "execution_count": null,
      "metadata": {
        "id": "5sprERmvwgye"
      },
      "outputs": [],
      "source": [
        "ff_factor_data.index.intersection(returns.index)"
      ]
    },
    {
      "cell_type": "markdown",
      "metadata": {
        "id": "S_UGWI_Fwgye"
      },
      "source": [
        "### Align data"
      ]
    },
    {
      "cell_type": "code",
      "execution_count": null,
      "metadata": {
        "ExecuteTime": {
          "end_time": "2021-04-15T19:55:20.336370Z",
          "start_time": "2021-04-15T19:55:20.332866Z"
        },
        "id": "P8iBRvVJwgye"
      },
      "outputs": [],
      "source": [
        "returns = returns.loc[ff_factor_data.index.intersection(returns.index)]\n",
        "ff_factor_data = ff_factor_data.loc[returns.index]\n",
        "ff_portfolio_data = ff_portfolio_data.loc[returns.index]"
      ]
    },
    {
      "cell_type": "code",
      "execution_count": null,
      "metadata": {
        "ExecuteTime": {
          "end_time": "2021-04-15T19:55:20.370190Z",
          "start_time": "2021-04-15T19:55:20.338297Z"
        },
        "id": "gzjN6fVmwgye"
      },
      "outputs": [],
      "source": [
        "ff_factor_data.describe()"
      ]
    },
    {
      "cell_type": "code",
      "execution_count": null,
      "metadata": {
        "id": "9L_wtd0Zwgye"
      },
      "outputs": [],
      "source": [
        "ff_factor_data.tail()"
      ]
    },
    {
      "cell_type": "markdown",
      "metadata": {
        "id": "LckZ2GNawgye"
      },
      "source": [
        "### Compute excess Returns"
      ]
    },
    {
      "cell_type": "code",
      "execution_count": null,
      "metadata": {
        "ExecuteTime": {
          "end_time": "2021-04-15T19:55:20.493870Z",
          "start_time": "2021-04-15T19:55:20.371460Z"
        },
        "id": "Yb6TDInTwgye"
      },
      "outputs": [],
      "source": [
        "excess_returns = returns.sub(ff_factor_data.RF, axis=0)\n",
        "excess_returns.info()"
      ]
    },
    {
      "cell_type": "code",
      "execution_count": null,
      "metadata": {
        "ExecuteTime": {
          "end_time": "2021-04-15T19:55:20.510527Z",
          "start_time": "2021-04-15T19:55:20.495111Z"
        },
        "id": "4ClUVVmUwgye"
      },
      "outputs": [],
      "source": [
        "excess_returns = excess_returns.clip(lower=np.percentile(excess_returns, 1),\n",
        "                                     upper=np.percentile(excess_returns, 99))"
      ]
    },
    {
      "cell_type": "markdown",
      "metadata": {
        "id": "7vEG8niCwgye"
      },
      "source": [
        "## Fama-Macbeth Regression"
      ]
    },
    {
      "cell_type": "markdown",
      "metadata": {
        "id": "DmzO36nAwgye"
      },
      "source": [
        "Given data on risk factors and portfolio returns, it is useful to estimate the portfolio's exposure, that is, how much the risk factors drive portfolio returns, as well as how much the exposure to a given factor is worth, that is, the what market's risk factor premium is. The risk premium then permits to estimate the return for any portfolio provided the factor exposure is known or can be assumed."
      ]
    },
    {
      "cell_type": "code",
      "execution_count": null,
      "metadata": {
        "ExecuteTime": {
          "end_time": "2021-04-15T19:55:20.520870Z",
          "start_time": "2021-04-15T19:55:20.511704Z"
        },
        "id": "ZsmXu8nWwgyf"
      },
      "outputs": [],
      "source": [
        "ff_portfolio_data.info()"
      ]
    },
    {
      "cell_type": "code",
      "execution_count": null,
      "metadata": {
        "ExecuteTime": {
          "end_time": "2021-04-15T19:55:20.538124Z",
          "start_time": "2021-04-15T19:55:20.521998Z"
        },
        "id": "zx5Hs0tZwgyf"
      },
      "outputs": [],
      "source": [
        "ff_factor_data = ff_factor_data.drop('RF', axis=1)\n",
        "ff_factor_data.info()"
      ]
    },
    {
      "cell_type": "markdown",
      "metadata": {
        "id": "KIRz3tj3wgyf"
      },
      "source": [
        "To address the inference problem caused by the correlation of the residuals, Fama and MacBeth proposed a two-step methodology for a cross-sectional regression of returns on factors. The two-stage Fama—Macbeth regression is designed to estimate the premium rewarded for the exposure to a particular risk factor by the market. The two stages consist of:\n",
        "\n",
        "- First stage: N time-series regression, one for each asset or portfolio, of its excess returns on the factors to estimate the factor loadings.\n",
        "\n",
        "- Second stage: T cross-sectional regression, one for each time period, to estimate the risk premium."
      ]
    },
    {
      "cell_type": "markdown",
      "metadata": {
        "id": "JLDKSn8gwgyf"
      },
      "source": [
        "Now we can compute the factor risk premia as the time average and get t-statistic to assess their individual significance, using the assumption that the risk premia estimates are independent over time.\n",
        "\n",
        "If we had a very large and representative data sample on traded risk factors we could use the sample mean as a risk premium estimate. However, we typically do not have a sufficiently long history to and the margin of error around the sample mean could be quite large. \n",
        "\n",
        "The Fama—Macbeth methodology leverages the covariance of the factors with other assets to determine the factor premia. The second moment of asset returns is easier to estimate than the first moment, and obtaining more granular data improves estimation considerably, which is not true of mean estimation."
      ]
    },
    {
      "cell_type": "markdown",
      "metadata": {
        "id": "Tm4RcW94wgyf"
      },
      "source": [
        "### Step 1: Factor Exposures"
      ]
    },
    {
      "cell_type": "markdown",
      "metadata": {
        "id": "urmtaM0Cwgyf"
      },
      "source": [
        "We can implement the first stage to obtain the 17 factor loading estimates as follows:"
      ]
    },
    {
      "cell_type": "code",
      "execution_count": null,
      "metadata": {
        "ExecuteTime": {
          "end_time": "2021-04-15T19:55:20.643488Z",
          "start_time": "2021-04-15T19:55:20.539304Z"
        },
        "id": "92Av12Aowgyf"
      },
      "outputs": [],
      "source": [
        "betas = []\n",
        "for industry in ff_portfolio_data:\n",
        "    step1 = OLS(endog=ff_portfolio_data.loc[ff_factor_data.index, industry], \n",
        "                exog=add_constant(ff_factor_data)).fit()\n",
        "    betas.append(step1.params.drop('const'))"
      ]
    },
    {
      "cell_type": "code",
      "execution_count": null,
      "metadata": {
        "ExecuteTime": {
          "end_time": "2021-04-15T19:55:20.658189Z",
          "start_time": "2021-04-15T19:55:20.646568Z"
        },
        "id": "rWdm9hv2wgyf"
      },
      "outputs": [],
      "source": [
        "betas = pd.DataFrame(betas, \n",
        "                     columns=ff_factor_data.columns, \n",
        "                     index=ff_portfolio_data.columns)\n",
        "betas.info()"
      ]
    },
    {
      "cell_type": "code",
      "execution_count": null,
      "metadata": {
        "id": "OLd34yK2wgyf"
      },
      "outputs": [],
      "source": [
        "betas.head()"
      ]
    },
    {
      "cell_type": "markdown",
      "metadata": {
        "id": "y7abYoy7wgyf"
      },
      "source": [
        "### Step 2: Risk Premia"
      ]
    },
    {
      "cell_type": "markdown",
      "metadata": {
        "id": "HWNsSkInwgyf"
      },
      "source": [
        "For the second stage, we run 96 regressions of the period returns for the cross section of portfolios on the factor loadings"
      ]
    },
    {
      "cell_type": "code",
      "execution_count": null,
      "metadata": {
        "ExecuteTime": {
          "end_time": "2021-04-15T19:55:20.759883Z",
          "start_time": "2021-04-15T19:55:20.659165Z"
        },
        "id": "baNd-C4Gwgyf"
      },
      "outputs": [],
      "source": [
        "lambdas = []\n",
        "for period in ff_portfolio_data.index:\n",
        "    step2 = OLS(endog=ff_portfolio_data.loc[period, betas.index], \n",
        "                exog=betas).fit()\n",
        "    lambdas.append(step2.params)"
      ]
    },
    {
      "cell_type": "code",
      "execution_count": null,
      "metadata": {
        "ExecuteTime": {
          "end_time": "2021-04-15T19:55:20.780931Z",
          "start_time": "2021-04-15T19:55:20.760976Z"
        },
        "id": "yTUXgoZFwgyf"
      },
      "outputs": [],
      "source": [
        "lambdas = pd.DataFrame(lambdas, \n",
        "                       index=ff_portfolio_data.index,\n",
        "                       columns=betas.columns.tolist())\n",
        "lambdas.info()"
      ]
    },
    {
      "cell_type": "code",
      "execution_count": null,
      "metadata": {
        "ExecuteTime": {
          "end_time": "2021-04-15T19:55:20.902217Z",
          "start_time": "2021-04-15T19:55:20.781976Z"
        },
        "id": "M-kNAfxFwgyf"
      },
      "outputs": [],
      "source": [
        "lambdas.mean().sort_values().plot.barh(figsize=(12, 4))\n",
        "sns.despine()\n",
        "plt.tight_layout();"
      ]
    },
    {
      "cell_type": "code",
      "execution_count": null,
      "metadata": {
        "ExecuteTime": {
          "end_time": "2021-04-15T19:55:20.908357Z",
          "start_time": "2021-04-15T19:55:20.903193Z"
        },
        "id": "QF8aFeeCwgyf"
      },
      "outputs": [],
      "source": [
        "t = lambdas.mean().div(lambdas.std())\n",
        "t"
      ]
    },
    {
      "cell_type": "markdown",
      "metadata": {
        "id": "ZZ4-q5Jlwgyf"
      },
      "source": [
        "#### Results"
      ]
    },
    {
      "cell_type": "code",
      "execution_count": null,
      "metadata": {
        "ExecuteTime": {
          "end_time": "2021-04-15T19:55:21.278124Z",
          "start_time": "2021-04-15T19:55:20.909336Z"
        },
        "scrolled": false,
        "id": "OkqN2NTUwgyf"
      },
      "outputs": [],
      "source": [
        "window = 24  # months\n",
        "ax1 = plt.subplot2grid((1, 3), (0, 0))\n",
        "ax2 = plt.subplot2grid((1, 3), (0, 1), colspan=2)\n",
        "lambdas.mean().sort_values().plot.barh(ax=ax1)\n",
        "lambdas.rolling(window).mean().dropna().plot(lw=1,\n",
        "                                             figsize=(14, 5),\n",
        "                                             sharey=True,\n",
        "                                             ax=ax2)\n",
        "sns.despine()\n",
        "plt.tight_layout()"
      ]
    },
    {
      "cell_type": "code",
      "execution_count": null,
      "metadata": {
        "ExecuteTime": {
          "end_time": "2021-04-15T19:55:21.839217Z",
          "start_time": "2021-04-15T19:55:21.279210Z"
        },
        "id": "kwfg3kw4wgyg"
      },
      "outputs": [],
      "source": [
        "window = 24  # months\n",
        "lambdas.rolling(window).mean().dropna().plot(lw=2,\n",
        "                                             figsize=(14, 7),\n",
        "                                             subplots=True,\n",
        "                                             sharey=True)\n",
        "sns.despine()\n",
        "plt.tight_layout()"
      ]
    },
    {
      "cell_type": "markdown",
      "metadata": {
        "id": "zcA1Ydhywgyg"
      },
      "source": [
        "## Fama-Macbeth with the LinearModels library"
      ]
    },
    {
      "cell_type": "markdown",
      "metadata": {
        "id": "Zno8g5mywgyg"
      },
      "source": [
        "The linear_models library extends statsmodels with various models for panel data and also implements the two-stage Fama—MacBeth procedure:"
      ]
    },
    {
      "cell_type": "code",
      "execution_count": null,
      "metadata": {
        "ExecuteTime": {
          "end_time": "2021-04-15T19:55:21.859424Z",
          "start_time": "2021-04-15T19:55:21.840019Z"
        },
        "id": "JP89paq_wgyg"
      },
      "outputs": [],
      "source": [
        "mod = LinearFactorModel(portfolios=ff_portfolio_data, \n",
        "                        factors=ff_factor_data)\n",
        "res = mod.fit()\n",
        "print(res)"
      ]
    },
    {
      "cell_type": "code",
      "execution_count": null,
      "metadata": {
        "ExecuteTime": {
          "end_time": "2021-04-15T19:55:21.921756Z",
          "start_time": "2021-04-15T19:55:21.861590Z"
        },
        "scrolled": false,
        "id": "tUPrTBlCwgyg"
      },
      "outputs": [],
      "source": [
        "print(res.full_summary)"
      ]
    },
    {
      "cell_type": "markdown",
      "metadata": {
        "id": "zeWwbctkwgyg"
      },
      "source": [
        "This provides us with the same result:"
      ]
    },
    {
      "cell_type": "code",
      "execution_count": null,
      "metadata": {
        "ExecuteTime": {
          "end_time": "2021-04-15T19:55:21.926652Z",
          "start_time": "2021-04-15T19:55:21.922840Z"
        },
        "id": "bVmBFQlwwgyg"
      },
      "outputs": [],
      "source": [
        "lambdas.mean()"
      ]
    },
    {
      "cell_type": "code",
      "execution_count": null,
      "metadata": {
        "id": "6OYnUApJwgyg"
      },
      "outputs": [],
      "source": [
        "name = input(\"What is your name? \")\n",
        "sid = input(\"What is your student ID? \")\n",
        "print(\"Name: \" + name + \"\\nStudent ID: \" + sid)"
      ]
    }
  ],
  "metadata": {
    "kernelspec": {
      "display_name": "Python 3",
      "language": "python",
      "name": "python3"
    },
    "language_info": {
      "codemirror_mode": {
        "name": "ipython",
        "version": 3
      },
      "file_extension": ".py",
      "mimetype": "text/x-python",
      "name": "python",
      "nbconvert_exporter": "python",
      "pygments_lexer": "ipython3",
      "version": "3.9.2"
    },
    "toc": {
      "base_numbering": 1,
      "nav_menu": {},
      "number_sections": true,
      "sideBar": true,
      "skip_h1_title": true,
      "title_cell": "Table of Contents",
      "title_sidebar": "Contents",
      "toc_cell": false,
      "toc_position": {},
      "toc_section_display": true,
      "toc_window_display": true
    },
    "colab": {
      "name": "02_fama_macbeth.ipynb",
      "provenance": []
    }
  },
  "nbformat": 4,
  "nbformat_minor": 0
}